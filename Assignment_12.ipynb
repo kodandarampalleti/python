{
 "cells": [
  {
   "cell_type": "markdown",
   "id": "b87757cb",
   "metadata": {},
   "source": [
    "### 1. In what modes should the PdfFileReader() and PdfFileWriter() File objects will be opened?"
   ]
  },
  {
   "cell_type": "markdown",
   "id": "2b277504",
   "metadata": {},
   "source": [
    "The PdfFileReader() and PdfFileWriter() File objects should be opened in 'rb' (read binary) or 'wb' (write binary) mode."
   ]
  },
  {
   "cell_type": "markdown",
   "id": "d95b7c41",
   "metadata": {},
   "source": [
    "---------------------------------------------\n",
    "### 2. From a PdfFileReader object, how do you get a Page object for page 5?"
   ]
  },
  {
   "cell_type": "markdown",
   "id": "cdfeff31",
   "metadata": {},
   "source": [
    "You can get a Page object by calling the getPage() methodon a PdfFileReader objec"
   ]
  },
  {
   "cell_type": "markdown",
   "id": "0977c1ad",
   "metadata": {},
   "source": [
    "---------------------------------------------\n",
    "### 3. What PdfFileReader variable stores the number of pages in the PDF document?"
   ]
  },
  {
   "cell_type": "markdown",
   "id": "6bdfb8b7",
   "metadata": {},
   "source": [
    "The total number of pages in the document is stored in the numPages attribute of a PdfFileReader object"
   ]
  },
  {
   "cell_type": "markdown",
   "id": "1bcd5034",
   "metadata": {},
   "source": [
    "----------------------------------------------------\n",
    "### 4. If a PdfFileReader object’s PDF is encrypted with the password swordfish, what must you do before you can obtain Page objects from it?"
   ]
  },
  {
   "cell_type": "markdown",
   "id": "2b2ada99",
   "metadata": {},
   "source": [
    " you must decrypt the PDF first by calling the decrypt() method on the PdfFileReader object and passing in the password as a string"
   ]
  },
  {
   "cell_type": "markdown",
   "id": "e82c0478",
   "metadata": {},
   "source": [
    "--------------------------------------------------------\n",
    "### 5. What methods do you use to rotate a page?"
   ]
  },
  {
   "cell_type": "markdown",
   "id": "e93227c3",
   "metadata": {},
   "source": [
    "The PyPDF2 library provides a method called rotateClockwise() and rotateCounterClockwise() that can be used to rotate the page."
   ]
  },
  {
   "cell_type": "markdown",
   "id": "002ba9a8",
   "metadata": {},
   "source": [
    "--------------------------------------------------\n",
    "### 6. What is the difference between a Run object and a Paragraph object?"
   ]
  },
  {
   "cell_type": "markdown",
   "id": "714ba878",
   "metadata": {},
   "source": [
    "A Run object is a single run or sequence of characters within a Paragraph object. A Paragraph object is a collection of Run objects, as well as other formatting objects such as tables and images, that together make up a single paragraph."
   ]
  },
  {
   "cell_type": "markdown",
   "id": "49d7862b",
   "metadata": {},
   "source": [
    "---------------------------------------------------\n",
    "### 7. How do you obtain a list of Paragraph objects for a Document object that’s stored in a variable named doc?"
   ]
  },
  {
   "cell_type": "markdown",
   "id": "1b359d72",
   "metadata": {},
   "source": [
    "Paragraphs = doc.paragraphs"
   ]
  },
  {
   "cell_type": "markdown",
   "id": "65b1295f",
   "metadata": {},
   "source": [
    "---------------------------------------------\n",
    "### 8. What type of object has bold, underline, italic, strike, and outline variables?"
   ]
  },
  {
   "cell_type": "markdown",
   "id": "9c387609",
   "metadata": {},
   "source": [
    "A string object can have bold, underline, italic, strike, and outline variables in Python. "
   ]
  },
  {
   "cell_type": "markdown",
   "id": "e5dd35be",
   "metadata": {},
   "source": [
    "----------------------------------------------------------------\n",
    "### 9. What is the difference between False, True, and None for the bold variable?"
   ]
  },
  {
   "cell_type": "markdown",
   "id": "d0c7f70e",
   "metadata": {},
   "source": [
    "False: This value is used to indicate that the text should not be bold. If the bold variable is set to False, the text will be displayed in the normal (non-bold) font.\n",
    "\n",
    "True: This value is used to indicate that the text should be bold. If the bold variable is set to True, the text will be displayed in a bold font.\n",
    "\n",
    "None: This value is used to indicate that the bold formatting of the text should be inherited from the parent object, such as a Style object or a Theme object. If the bold variable is set to None, the text will be displayed in the bold font if the parent object specifies bold formatting, and in the normal font otherwise"
   ]
  },
  {
   "cell_type": "markdown",
   "id": "aa7aadc7",
   "metadata": {},
   "source": [
    "----------------------------------------------------\n",
    "### 10. How do you create a Document object for a new Word document?"
   ]
  },
  {
   "cell_type": "markdown",
   "id": "5bcd4714",
   "metadata": {},
   "source": [
    "Call the docx.Document() function."
   ]
  },
  {
   "cell_type": "markdown",
   "id": "e6a43b8e",
   "metadata": {},
   "source": [
    "-------------------------------------------\n",
    "### 11. How do you add a paragraph with the text &#39;Hello, there!&#39; to a Document object stored in a variable named doc?"
   ]
  },
  {
   "cell_type": "markdown",
   "id": "4f26484b",
   "metadata": {},
   "source": [
    "doc.add_paragraph('Hello there!')"
   ]
  },
  {
   "cell_type": "markdown",
   "id": "3549215b",
   "metadata": {},
   "source": [
    "---------------------------------------------\n",
    "### 12. What integers represent the levels of headings available in Word documents?"
   ]
  },
  {
   "cell_type": "markdown",
   "id": "40c7a9a2",
   "metadata": {},
   "source": [
    "These levels are represented by integers from 1 to 9"
   ]
  }
 ],
 "metadata": {
  "kernelspec": {
   "display_name": "Python 3 (ipykernel)",
   "language": "python",
   "name": "python3"
  },
  "language_info": {
   "codemirror_mode": {
    "name": "ipython",
    "version": 3
   },
   "file_extension": ".py",
   "mimetype": "text/x-python",
   "name": "python",
   "nbconvert_exporter": "python",
   "pygments_lexer": "ipython3",
   "version": "3.9.13"
  }
 },
 "nbformat": 4,
 "nbformat_minor": 5
}
