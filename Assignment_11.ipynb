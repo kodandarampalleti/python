{
 "cells": [
  {
   "cell_type": "markdown",
   "id": "e7955650",
   "metadata": {},
   "source": [
    "### 1. Create an assert statement that throws an AssertionError if the variable spam is a negative integer."
   ]
  },
  {
   "cell_type": "markdown",
   "id": "06733d45",
   "metadata": {},
   "source": [
    "assert spam >= 10, 'The spam variable is less than 10."
   ]
  },
  {
   "cell_type": "markdown",
   "id": "c2b42133",
   "metadata": {},
   "source": [
    "-------------------------------------------------\n",
    "### 2. Write an assert statement that triggers an AssertionError if the variables eggs and bacon contain strings that are the same as each other, even if their cases are different (that is, &#39;hello&#39; and &#39;hello&#39; are considered the same, and &#39;goodbye&#39; and &#39;GOODbye&#39; are also considered the same)."
   ]
  },
  {
   "cell_type": "markdown",
   "id": "c2296728",
   "metadata": {},
   "source": [
    "assert eggs.lower() != bacon.lower(), 'eggs and bacon should not have the same value'\n"
   ]
  },
  {
   "cell_type": "markdown",
   "id": "711b99fb",
   "metadata": {},
   "source": [
    "------------------------------------------------------\n",
    "### 3. Create an assert statement that throws an AssertionError every time."
   ]
  },
  {
   "cell_type": "markdown",
   "id": "34e675fb",
   "metadata": {},
   "source": [
    "assert False, 'This assertion always fails'\n"
   ]
  },
  {
   "cell_type": "markdown",
   "id": "c60a436c",
   "metadata": {},
   "source": [
    "-----------------------------------------------------\n",
    "### 4. What are the two lines that must be present in your software in order to call logging.debug()?"
   ]
  },
  {
   "cell_type": "markdown",
   "id": "2541ae1f",
   "metadata": {},
   "source": [
    "import logging\n",
    "\n",
    "logging.basicConfig(level=logging.DEBUG, format=' %(asctime)s - %(levelname)s - %(message)s'"
   ]
  },
  {
   "cell_type": "markdown",
   "id": "e3252469",
   "metadata": {},
   "source": [
    "-------------------------------------------------\n",
    "### 5. What are the two lines that your program must have in order to have logging.debug() send a logging message to a file named programLog.txt?"
   ]
  },
  {
   "cell_type": "markdown",
   "id": "05a43bd0",
   "metadata": {},
   "source": [
    "import logging\n",
    "\n",
    "logging.basicConfig(filename='programLog.txt', level=logging.DEBUG,\n",
    "format=' %(asctime)s - %(levelname)s - %(message)s')"
   ]
  },
  {
   "cell_type": "markdown",
   "id": "44749b9f",
   "metadata": {},
   "source": [
    "--------------------------------------------------------\n",
    "### 6. What are the five levels of logging?"
   ]
  },
  {
   "cell_type": "markdown",
   "id": "ef580afe",
   "metadata": {},
   "source": [
    "DEBUG, INFO, WARNING, ERROR, and CRITICAL"
   ]
  },
  {
   "cell_type": "markdown",
   "id": "08e315a7",
   "metadata": {},
   "source": [
    "----------------------------------------------------\n",
    "### 7. What line of code would you add to your software to disable all logging messages?"
   ]
  },
  {
   "cell_type": "markdown",
   "id": "831acfbe",
   "metadata": {},
   "source": [
    "logging.disable(logging.CRITICAL)"
   ]
  },
  {
   "cell_type": "markdown",
   "id": "90624fab",
   "metadata": {},
   "source": [
    "------------------------------------------------------------------\n",
    "### 8.Why is using logging messages better than using print() to display the same message?"
   ]
  },
  {
   "cell_type": "markdown",
   "id": "7b02f4bd",
   "metadata": {},
   "source": [
    "Logging messages are better than using print() because they provide more detailed information about when and where the message was generated. Logging messages also allow for more customization in terms of the format of the messages, which can provide more context for debugging and troubleshooting. Additionally, logging messages can be directed to different locations such as files, databases, or remote services, making it easier to track and analyze them."
   ]
  },
  {
   "cell_type": "markdown",
   "id": "b6315598",
   "metadata": {},
   "source": [
    "---------------------------------------------------------\n",
    "### 9. What are the differences between the Step Over, Step In, and Step Out buttons in the debugger?"
   ]
  },
  {
   "cell_type": "markdown",
   "id": "40437a40",
   "metadata": {},
   "source": [
    "The Step Over button is used to execute the current line of code and stop on the next line.\n",
    "\n",
    "The Step In button is used to pause on the first line of a function call and execute the function one line at a time\n",
    "\n",
    "The Step Out button is used to execute the rest of the current function and pause on the line that called the function"
   ]
  },
  {
   "cell_type": "markdown",
   "id": "681fedcc",
   "metadata": {},
   "source": [
    "---------------------------------------------\n",
    "### 10.After you click Continue, when will the debugger stop ?"
   ]
  },
  {
   "cell_type": "markdown",
   "id": "7e7c6121",
   "metadata": {},
   "source": [
    "When you click the \"Continue\" button in a debugger, the program will continue executing until it reaches a breakpoint, raises an exception, receives a signal, or completes normally."
   ]
  },
  {
   "cell_type": "markdown",
   "id": "99217bbe",
   "metadata": {},
   "source": [
    "---------------------------------------------------------\n",
    "### 11. What is the concept of a breakpoint?"
   ]
  },
  {
   "cell_type": "markdown",
   "id": "b5b6b0a5",
   "metadata": {},
   "source": [
    "A breakpoint is a tool used to pause the execution of a program at a specific line of code, allowing the programmer to inspect the program state at that point."
   ]
  }
 ],
 "metadata": {
  "kernelspec": {
   "display_name": "Python 3 (ipykernel)",
   "language": "python",
   "name": "python3"
  },
  "language_info": {
   "codemirror_mode": {
    "name": "ipython",
    "version": 3
   },
   "file_extension": ".py",
   "mimetype": "text/x-python",
   "name": "python",
   "nbconvert_exporter": "python",
   "pygments_lexer": "ipython3",
   "version": "3.9.13"
  }
 },
 "nbformat": 4,
 "nbformat_minor": 5
}
