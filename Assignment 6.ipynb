{
 "cells": [
  {
   "cell_type": "markdown",
   "id": "05816aa2",
   "metadata": {},
   "source": [
    "## 1. What are escape characters, and how do you use them?"
   ]
  },
  {
   "cell_type": "markdown",
   "id": "1bf52d1d",
   "metadata": {},
   "source": [
    "### Ans : Escape characters are used to signal an alternative interpretation of a following character. For example, when using the escape character \\ with the character n, the result is the newline character."
   ]
  },
  {
   "cell_type": "markdown",
   "id": "37030cd4",
   "metadata": {},
   "source": [
    "## 2. What do the escape characters n and t stand for?"
   ]
  },
  {
   "cell_type": "markdown",
   "id": "11a54b2a",
   "metadata": {},
   "source": [
    "### Ans : n stands for new line and t stands for tab."
   ]
  },
  {
   "cell_type": "markdown",
   "id": "0c0f9c75",
   "metadata": {},
   "source": [
    "## 3. What is the way to include backslash characters in a string?"
   ]
  },
  {
   "cell_type": "markdown",
   "id": "2f4f881c",
   "metadata": {},
   "source": [
    "### Ans : The \\ \\ escape character will represent a backslash character."
   ]
  },
  {
   "cell_type": "markdown",
   "id": "a358fdc3",
   "metadata": {},
   "source": [
    "## 4. The string &quot;Howl&#39;s Moving Castle&quot; is a correct value. Why isn&#39;t the single quote character in the word Howl&#39;s not escaped a problem?"
   ]
  },
  {
   "cell_type": "markdown",
   "id": "a7d14aa9",
   "metadata": {},
   "source": [
    "### Ans : The single quote in Howl's is fine because you've used double quotes to mark the beginning and end of the string."
   ]
  },
  {
   "cell_type": "markdown",
   "id": "faaafbe3",
   "metadata": {},
   "source": [
    "## 5. How do you write a string of newlines if you don&#39;t want to use the n character?"
   ]
  },
  {
   "cell_type": "markdown",
   "id": "51e85a26",
   "metadata": {},
   "source": [
    "### Ans : There is no way to write a string of newlines without using the n character."
   ]
  },
  {
   "cell_type": "markdown",
   "id": "aa48e4f4",
   "metadata": {},
   "source": [
    "## 6. What are the values of the given expressions?"
   ]
  },
  {
   "cell_type": "markdown",
   "id": "789b3bcf",
   "metadata": {},
   "source": [
    "### &#39;Hello, world!&#39;[1]"
   ]
  },
  {
   "cell_type": "markdown",
   "id": "191178d3",
   "metadata": {},
   "source": [
    "### &#39;Hello, world!&#39;[0:5]"
   ]
  },
  {
   "cell_type": "markdown",
   "id": "f6beeac4",
   "metadata": {},
   "source": [
    "### &#39;Hello, world!&#39;[:5]"
   ]
  },
  {
   "cell_type": "markdown",
   "id": "a7c76c73",
   "metadata": {},
   "source": [
    "### &#39;Hello, world!&#39;[3:]"
   ]
  },
  {
   "cell_type": "markdown",
   "id": "5a2af61f",
   "metadata": {},
   "source": [
    "### Ans : 'e' , 'hello' , 'hello' , 'lo, world!'"
   ]
  },
  {
   "cell_type": "markdown",
   "id": "aec3b64f",
   "metadata": {},
   "source": [
    "## 7. What are the values of the following expressions?"
   ]
  },
  {
   "cell_type": "markdown",
   "id": "cd9beb0d",
   "metadata": {},
   "source": [
    "### &#39;Hello&#39;.upper()"
   ]
  },
  {
   "cell_type": "markdown",
   "id": "dda7189b",
   "metadata": {},
   "source": [
    "### &#39;Hello&#39;.upper().isupper()"
   ]
  },
  {
   "cell_type": "markdown",
   "id": "a12a2651",
   "metadata": {},
   "source": [
    "### &#39;Hello&#39;.upper().lower()"
   ]
  },
  {
   "cell_type": "markdown",
   "id": "5c93362f",
   "metadata": {},
   "source": [
    "### Ans : 'HELLO' , True , 'hello'"
   ]
  },
  {
   "cell_type": "markdown",
   "id": "edec5e40",
   "metadata": {},
   "source": [
    "## 8. What are the values of the following expressions?"
   ]
  },
  {
   "cell_type": "markdown",
   "id": "19e1325c",
   "metadata": {},
   "source": [
    "### &#39;Remember, remember, the fifth of July.&#39;.split()"
   ]
  },
  {
   "cell_type": "markdown",
   "id": "91125f4c",
   "metadata": {},
   "source": [
    "### &#39;-&#39;.join(&#39;There can only one.&#39;.split())"
   ]
  },
  {
   "cell_type": "markdown",
   "id": "f787b029",
   "metadata": {},
   "source": [
    "### Ans :  ['Remember,', 'remember,', 'the', 'fifth', 'of', 'July.']"
   ]
  },
  {
   "cell_type": "markdown",
   "id": "a6f67bc3",
   "metadata": {},
   "source": [
    "###         'There-can-only-one.'"
   ]
  },
  {
   "cell_type": "markdown",
   "id": "993b8795",
   "metadata": {},
   "source": [
    "## 9. What are the methods for right-justifying, left-justifying, and centering a string?"
   ]
  },
  {
   "cell_type": "markdown",
   "id": "b0efd0a6",
   "metadata": {},
   "source": [
    "### Ans : The rjust(), ljust(), and center() string methods, respectively"
   ]
  },
  {
   "cell_type": "markdown",
   "id": "979af432",
   "metadata": {},
   "source": [
    "## 10. What is the best way to remove whitespace characters from the start or end?"
   ]
  },
  {
   "cell_type": "markdown",
   "id": "e6eb961f",
   "metadata": {},
   "source": [
    "### Ans : The rstrip()  and lstrip() string  methods which will remove whitespaces from the start to end"
   ]
  }
 ],
 "metadata": {
  "kernelspec": {
   "display_name": "Python 3 (ipykernel)",
   "language": "python",
   "name": "python3"
  },
  "language_info": {
   "codemirror_mode": {
    "name": "ipython",
    "version": 3
   },
   "file_extension": ".py",
   "mimetype": "text/x-python",
   "name": "python",
   "nbconvert_exporter": "python",
   "pygments_lexer": "ipython3",
   "version": "3.9.12"
  }
 },
 "nbformat": 4,
 "nbformat_minor": 5
}
