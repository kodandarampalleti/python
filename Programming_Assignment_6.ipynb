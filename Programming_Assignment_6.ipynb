{
 "cells": [
  {
   "cell_type": "markdown",
   "id": "893b695c",
   "metadata": {},
   "source": [
    "### 1. Write a Python Program to Display Fibonacci Sequence Using Recursion?"
   ]
  },
  {
   "cell_type": "code",
   "execution_count": 1,
   "id": "2b42187f",
   "metadata": {},
   "outputs": [],
   "source": [
    "def fibo(a,b,c):\n",
    "    if c > 0:\n",
    "        c -= 1\n",
    "        print(a, end=' ')\n",
    "        temp = b\n",
    "        b = a + b\n",
    "        a = temp\n",
    "        fibo(a,b,c)"
   ]
  },
  {
   "cell_type": "code",
   "execution_count": 2,
   "id": "17ec613e",
   "metadata": {},
   "outputs": [
    {
     "name": "stdout",
     "output_type": "stream",
     "text": [
      "2 5 7 12 19 31 50 81 "
     ]
    }
   ],
   "source": [
    "fibo(2,5,8)"
   ]
  },
  {
   "cell_type": "markdown",
   "id": "6ee02e0c",
   "metadata": {},
   "source": [
    "### 2. Write a Python Program to Find Factorial of Number Using Recursion?"
   ]
  },
  {
   "cell_type": "code",
   "execution_count": 3,
   "id": "ae128ba3",
   "metadata": {},
   "outputs": [],
   "source": [
    "def fact(n):\n",
    "    if n == 0:\n",
    "        return 1\n",
    "    else:\n",
    "        return n*fact(n-1)"
   ]
  },
  {
   "cell_type": "code",
   "execution_count": 4,
   "id": "50fd8f60",
   "metadata": {},
   "outputs": [
    {
     "data": {
      "text/plain": [
       "3628800"
      ]
     },
     "execution_count": 4,
     "metadata": {},
     "output_type": "execute_result"
    }
   ],
   "source": [
    "fact(10)"
   ]
  },
  {
   "cell_type": "markdown",
   "id": "6fad62dd",
   "metadata": {},
   "source": [
    "### 3. Write a Python Program to calculate your Body Mass Index?"
   ]
  },
  {
   "cell_type": "code",
   "execution_count": 5,
   "id": "dcc4da94",
   "metadata": {},
   "outputs": [],
   "source": [
    "def bmi(height, weight):\n",
    "    \n",
    "    return weight/(height*height)"
   ]
  },
  {
   "cell_type": "code",
   "execution_count": 7,
   "id": "9b53ef2c",
   "metadata": {},
   "outputs": [
    {
     "data": {
      "text/plain": [
       "3.0757400999615534"
      ]
     },
     "execution_count": 7,
     "metadata": {},
     "output_type": "execute_result"
    }
   ],
   "source": [
    "bmi(5.10 , 80)"
   ]
  },
  {
   "cell_type": "markdown",
   "id": "f6104e8e",
   "metadata": {},
   "source": [
    "### 4. Write a Python Program to calculate the natural logarithm of any number?"
   ]
  },
  {
   "cell_type": "code",
   "execution_count": 8,
   "id": "9e03523b",
   "metadata": {},
   "outputs": [
    {
     "name": "stdout",
     "output_type": "stream",
     "text": [
      "Enter the number: 34\n",
      "3.5263605246161616\n"
     ]
    }
   ],
   "source": [
    "import math\n",
    "\n",
    "try:\n",
    "    num = int(input(\"Enter the number: \"))\n",
    "except Exception as e:\n",
    "    print(e)\n",
    "else:\n",
    "    print(math.log(num))"
   ]
  },
  {
   "cell_type": "markdown",
   "id": "dd8b3162",
   "metadata": {},
   "source": [
    "### 5. Write a Python Program for cube sum of first n natural numbers?"
   ]
  },
  {
   "cell_type": "code",
   "execution_count": 10,
   "id": "4f5fbdd4",
   "metadata": {},
   "outputs": [],
   "source": [
    "def cube(n):\n",
    "    return sum(range(n+1))**3"
   ]
  },
  {
   "cell_type": "code",
   "execution_count": 11,
   "id": "e1d9e4c9",
   "metadata": {},
   "outputs": [
    {
     "data": {
      "text/plain": [
       "216"
      ]
     },
     "execution_count": 11,
     "metadata": {},
     "output_type": "execute_result"
    }
   ],
   "source": [
    "cube(3)"
   ]
  },
  {
   "cell_type": "code",
   "execution_count": null,
   "id": "7a3c5f86",
   "metadata": {},
   "outputs": [],
   "source": []
  }
 ],
 "metadata": {
  "kernelspec": {
   "display_name": "Python 3 (ipykernel)",
   "language": "python",
   "name": "python3"
  },
  "language_info": {
   "codemirror_mode": {
    "name": "ipython",
    "version": 3
   },
   "file_extension": ".py",
   "mimetype": "text/x-python",
   "name": "python",
   "nbconvert_exporter": "python",
   "pygments_lexer": "ipython3",
   "version": "3.9.13"
  }
 },
 "nbformat": 4,
 "nbformat_minor": 5
}
