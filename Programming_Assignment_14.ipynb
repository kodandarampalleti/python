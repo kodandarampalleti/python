{
 "cells": [
  {
   "cell_type": "markdown",
   "id": "4cc20a39",
   "metadata": {},
   "source": [
    "### 1. Define a class with a generator which can iterate the numbers, which are divisible by 7, between a given range 0 and n."
   ]
  },
  {
   "cell_type": "code",
   "execution_count": 1,
   "id": "7933b9f1",
   "metadata": {},
   "outputs": [
    {
     "data": {
      "text/plain": [
       "[0, 7, 14, 21, 28, 35, 42, 49, 56, 63, 70, 77, 84, 91, 98]"
      ]
     },
     "execution_count": 1,
     "metadata": {},
     "output_type": "execute_result"
    }
   ],
   "source": [
    "class Task1:\n",
    "    def gen(self, n):\n",
    "        for i in range(n+1):\n",
    "            if i%7 == 0:\n",
    "                yield i\n",
    "nums = Task1()\n",
    "[i for i in nums.gen(100)]"
   ]
  },
  {
   "cell_type": "markdown",
   "id": "d1270582",
   "metadata": {},
   "source": [
    "### 2. Write a program to compute the frequency of the words from the input. The output should output after sorting the key alphanumerically."
   ]
  },
  {
   "cell_type": "code",
   "execution_count": 1,
   "id": "9536e535",
   "metadata": {},
   "outputs": [],
   "source": [
    "def task2(string: str):\n",
    "    \n",
    "    string_list = string.split(' ')\n",
    "    out_dict = {}\n",
    "    \n",
    "    for s in string_list:\n",
    "        if s in out_dict.keys():\n",
    "            out_dict[s] += 1\n",
    "        else:\n",
    "            out_dict[s] = 1\n",
    "            \n",
    "    for k, v in sorted(out_dict.items()):\n",
    "        print(k, ':', v)"
   ]
  },
  {
   "cell_type": "code",
   "execution_count": 2,
   "id": "f19b3ec7",
   "metadata": {},
   "outputs": [
    {
     "name": "stdout",
     "output_type": "stream",
     "text": [
      "2 : 2\n",
      "3 : 1\n",
      "3? : 1\n",
      "New : 1\n",
      "Python : 5\n",
      "Read : 1\n",
      "and : 1\n",
      "between : 1\n",
      "choosing : 1\n",
      "or : 2\n",
      "to : 1\n"
     ]
    }
   ],
   "source": [
    "task2('New to Python or choosing between Python 2 and Python 3? Read Python 2 or Python 3')"
   ]
  },
  {
   "cell_type": "markdown",
   "id": "6b9747ef",
   "metadata": {},
   "source": [
    "### 3. Define a class Person and its two child classes: Male and Female. All classes have a method \"getGender\" which can print \"Male\" for Male class and \"Female\" for Female class."
   ]
  },
  {
   "cell_type": "code",
   "execution_count": 3,
   "id": "fddb567b",
   "metadata": {},
   "outputs": [
    {
     "name": "stdout",
     "output_type": "stream",
     "text": [
      "Male\n",
      "Female\n"
     ]
    }
   ],
   "source": [
    "class Person:\n",
    "    def getGender(self):\n",
    "        pass\n",
    "    \n",
    "class Male(Person):\n",
    "    def getGender(self):\n",
    "        print('Male')\n",
    "        \n",
    "class Female(Person):\n",
    "    def getGender(self):\n",
    "        print('Female')\n",
    "male = Male()\n",
    "female= Female()\n",
    "male.getGender()\n",
    "female.getGender()"
   ]
  },
  {
   "cell_type": "markdown",
   "id": "d6124385",
   "metadata": {},
   "source": [
    "### 4. Please write a program to generate all sentences where subject is in [\"I\", \"You\"] and verb is in ['Play', \"Love\"] and the object is in [\"Hockey\",\"Football\"]."
   ]
  },
  {
   "cell_type": "code",
   "execution_count": 4,
   "id": "e107b523",
   "metadata": {},
   "outputs": [
    {
     "name": "stdout",
     "output_type": "stream",
     "text": [
      "I Play Hockey\n",
      "I Play Football\n",
      "I Love Hockey\n",
      "I Love Football\n",
      "You Play Hockey\n",
      "You Play Football\n",
      "You Love Hockey\n",
      "You Love Football\n"
     ]
    }
   ],
   "source": [
    "subject=[\"I\", \"You\"]\n",
    "verb=[\"Play\", \"Love\"]\n",
    "obj=[\"Hockey\",\"Football\"]\n",
    "\n",
    "sentence_list = []\n",
    "\n",
    "for i in subject:\n",
    "    for j in verb:\n",
    "        for k in obj:\n",
    "            sentence_list.append(i + \" \" + j + \" \" + k)\n",
    "            \n",
    "for sentence in sentence_list:\n",
    "    print(sentence)"
   ]
  },
  {
   "cell_type": "markdown",
   "id": "c9d9ebb0",
   "metadata": {},
   "source": [
    "### 5. Please write a program to compress and decompress the string \"hello world!hello world!hello world!hello world!\""
   ]
  },
  {
   "cell_type": "code",
   "execution_count": 6,
   "id": "00af6678",
   "metadata": {},
   "outputs": [
    {
     "name": "stdout",
     "output_type": "stream",
     "text": [
      "Compressed string is: b'x\\x9c\\xcbH\\xcd\\xc9\\xc9W(\\xcf/\\xcaIQ\\xcc \\x82\\r\\x00\\xbd[\\x11\\xf5'\n",
      "Decompressed string is: b'hello world!hello world!hello world!hello world!'\n"
     ]
    }
   ],
   "source": [
    "import zlib\n",
    "\n",
    "string = 'hello world!hello world!hello world!hello world!'\n",
    "\n",
    "compress_string = zlib.compress(bytes(string, 'utf-8'))\n",
    "\n",
    "print(f\"Compressed string is: {compress_string}\")\n",
    "print(f\"Decompressed string is: {zlib.decompress(compress_string)}\")"
   ]
  },
  {
   "cell_type": "markdown",
   "id": "a59b923a",
   "metadata": {},
   "source": [
    "### 6. Please write a binary search function which searches an item in a sorted list. The function should return the index of element to be searched in the list."
   ]
  },
  {
   "cell_type": "code",
   "execution_count": 7,
   "id": "73384c86",
   "metadata": {},
   "outputs": [],
   "source": [
    "def binarySearch(list1, n):  \n",
    "    \n",
    "    \n",
    "    low = 0  \n",
    "    high = len(list1) - 1  \n",
    "    mid = 0  \n",
    "  \n",
    "    while low <= high:  \n",
    "        mid = (high + low) // 2  \n",
    "        if list1[mid] < n:  \n",
    "            low = mid + 1  \n",
    "        elif list1[mid] > n:  \n",
    "            high = mid - 1  \n",
    "        else:  \n",
    "            return mid  \n",
    "    return -1"
   ]
  },
  {
   "cell_type": "code",
   "execution_count": 8,
   "id": "e8577452",
   "metadata": {},
   "outputs": [
    {
     "data": {
      "text/plain": [
       "4"
      ]
     },
     "execution_count": 8,
     "metadata": {},
     "output_type": "execute_result"
    }
   ],
   "source": [
    "sorted_list = [1, 4, 5, 12, 54, 678, 1235]\n",
    "\n",
    "binarySearch(sorted_list, 54)"
   ]
  }
 ],
 "metadata": {
  "kernelspec": {
   "display_name": "Python 3 (ipykernel)",
   "language": "python",
   "name": "python3"
  },
  "language_info": {
   "codemirror_mode": {
    "name": "ipython",
    "version": 3
   },
   "file_extension": ".py",
   "mimetype": "text/x-python",
   "name": "python",
   "nbconvert_exporter": "python",
   "pygments_lexer": "ipython3",
   "version": "3.9.13"
  }
 },
 "nbformat": 4,
 "nbformat_minor": 5
}
