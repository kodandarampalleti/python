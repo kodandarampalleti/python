{
 "cells": [
  {
   "cell_type": "markdown",
   "id": "c2752157",
   "metadata": {},
   "source": [
    "### 1. Assign the value 7 to the variable guess_me. Then, write the conditional tests (if, else, and elif) to print the string &#39;too low&#39; if guess_me is less than 7, &#39;too high&#39; if greater than 7, and &#39;just right&#39; if equal to 7."
   ]
  },
  {
   "cell_type": "code",
   "execution_count": 1,
   "id": "93d6d8b9",
   "metadata": {},
   "outputs": [
    {
     "name": "stdout",
     "output_type": "stream",
     "text": [
      "just right\n"
     ]
    }
   ],
   "source": [
    "guess_me = 7\n",
    "if guess_me < 7:\n",
    "    print(\"too low\")\n",
    "elif guess_me > 7:\n",
    "    print('too high')\n",
    "else:\n",
    "    print('just right')"
   ]
  },
  {
   "cell_type": "markdown",
   "id": "3f400cb3",
   "metadata": {},
   "source": [
    "-------------------------------------------------------\n",
    "### 2. Assign the value 7 to the variable guess_me and the value 1 to the variable start. Write a while loop that compares start with guess_me. Print too low if start is less than guess me. If start equals guess_me, print &#39;found it!&#39; and exit the loop. If start is greater than guess_me, print &#39;oops&#39; and exit the loop. Increment start at the end of the loop."
   ]
  },
  {
   "cell_type": "code",
   "execution_count": 2,
   "id": "f2ca0371",
   "metadata": {},
   "outputs": [
    {
     "name": "stdout",
     "output_type": "stream",
     "text": [
      "too low\n",
      "too low\n",
      "too low\n",
      "too low\n",
      "too low\n",
      "too low\n",
      "found it!\n"
     ]
    }
   ],
   "source": [
    "guess_me = 7\n",
    "start = 1\n",
    "while(True):\n",
    "    if start < guess_me:\n",
    "        print(\"too low\")\n",
    "    elif start == guess_me:\n",
    "        print('found it!')\n",
    "        break\n",
    "    elif start > guess_me:\n",
    "        print('oops')\n",
    "        break\n",
    "    start += 1"
   ]
  },
  {
   "cell_type": "markdown",
   "id": "96baa4d5",
   "metadata": {},
   "source": [
    "----------------------------------------------------------------------\n",
    "### 3. Print the following values of the list [3, 2, 1, 0] using a for loop."
   ]
  },
  {
   "cell_type": "code",
   "execution_count": 12,
   "id": "89769ffc",
   "metadata": {},
   "outputs": [
    {
     "name": "stdout",
     "output_type": "stream",
     "text": [
      "3\n",
      "2\n",
      "1\n",
      "0\n"
     ]
    }
   ],
   "source": [
    "my_list = [3, 2, 1, 0]\n",
    "for a in my_list:\n",
    "    print(a)"
   ]
  },
  {
   "cell_type": "markdown",
   "id": "be835bef",
   "metadata": {},
   "source": [
    "--------------------------------------------------------------\n",
    "### 4. Use a list comprehension to make a list of the even numbers in range(10)"
   ]
  },
  {
   "cell_type": "code",
   "execution_count": 15,
   "id": "3426dc2a",
   "metadata": {},
   "outputs": [
    {
     "name": "stdout",
     "output_type": "stream",
     "text": [
      "[0, 2, 4, 6, 8]\n"
     ]
    }
   ],
   "source": [
    "a = [i for i in range(10) if i%2 == 0]\n",
    "print(a)"
   ]
  },
  {
   "cell_type": "markdown",
   "id": "9f4cde1a",
   "metadata": {},
   "source": [
    "----------------------------------------------------\n",
    "### 5. Use a dictionary comprehension to create the dictionary squares. Use range(10) to return the keys, and use the square of each key as its value."
   ]
  },
  {
   "cell_type": "code",
   "execution_count": 16,
   "id": "ebeb97fc",
   "metadata": {},
   "outputs": [
    {
     "data": {
      "text/plain": [
       "{0: 0, 1: 1, 2: 4, 3: 9, 4: 16, 5: 25, 6: 36, 7: 49, 8: 64, 9: 81}"
      ]
     },
     "execution_count": 16,
     "metadata": {},
     "output_type": "execute_result"
    }
   ],
   "source": [
    "d = {a : a**2 for a in range(10)}\n",
    "d"
   ]
  },
  {
   "cell_type": "markdown",
   "id": "e68fd7f5",
   "metadata": {},
   "source": [
    "---------------------------------------------------------------\n",
    "### 6. Construct the set odd from the odd numbers in the range using a set comprehension (10)."
   ]
  },
  {
   "cell_type": "code",
   "execution_count": 17,
   "id": "7a9058ae",
   "metadata": {},
   "outputs": [
    {
     "name": "stdout",
     "output_type": "stream",
     "text": [
      "{1, 3, 5, 7, 9}\n"
     ]
    }
   ],
   "source": [
    "a = {i for i in range(10) if i%2 != 0}\n",
    "print(a)"
   ]
  },
  {
   "cell_type": "markdown",
   "id": "db57137b",
   "metadata": {},
   "source": [
    "---------------------------------------------------\n",
    "### 7. Use a generator comprehension to return the string &#39;Got &#39; and a number for the numbers in range(10). Iterate through this by using a for loop."
   ]
  },
  {
   "cell_type": "code",
   "execution_count": 18,
   "id": "a9ab41a2",
   "metadata": {},
   "outputs": [
    {
     "name": "stdout",
     "output_type": "stream",
     "text": [
      "Got 0\n",
      "Got 1\n",
      "Got 2\n",
      "Got 3\n",
      "Got 4\n",
      "Got 5\n",
      "Got 6\n",
      "Got 7\n",
      "Got 8\n",
      "Got 9\n"
     ]
    }
   ],
   "source": [
    "for value in ('Got %s' % number for number in range(10)):\n",
    "        print(value)"
   ]
  },
  {
   "cell_type": "markdown",
   "id": "321d5ac4",
   "metadata": {},
   "source": [
    "--------------------------------------------------------------\n",
    "### 8. Define a function called good that returns the list [&#39;Harry&#39;, &#39;Ron&#39;, &#39;Hermione&#39;]."
   ]
  },
  {
   "cell_type": "code",
   "execution_count": 19,
   "id": "bae10bac",
   "metadata": {},
   "outputs": [],
   "source": [
    "def good():\n",
    "    return ['Harry', 'Ron', 'Hermione']"
   ]
  },
  {
   "cell_type": "code",
   "execution_count": 20,
   "id": "34897395",
   "metadata": {},
   "outputs": [
    {
     "data": {
      "text/plain": [
       "['Harry', 'Ron', 'Hermione']"
      ]
     },
     "execution_count": 20,
     "metadata": {},
     "output_type": "execute_result"
    }
   ],
   "source": [
    "good()"
   ]
  },
  {
   "cell_type": "markdown",
   "id": "57fd4d65",
   "metadata": {},
   "source": [
    "-------------------------------------------------------\n",
    "### 9. Define a generator function called get_odds that returns the odd numbers from range(10). Use a for loop to find and print the third value returned."
   ]
  },
  {
   "cell_type": "code",
   "execution_count": 27,
   "id": "cf676034",
   "metadata": {},
   "outputs": [
    {
     "name": "stdout",
     "output_type": "stream",
     "text": [
      "The third odd numbers is :5\n"
     ]
    }
   ],
   "source": [
    "def get_odds():\n",
    "    for i in range(1 ,10 , 2):\n",
    "        yield i\n",
    "counts = 1\n",
    "for i in get_odds():\n",
    "    if counts == 3:\n",
    "        print(f\"The third odd numbers is :{i}\")\n",
    "        break\n",
    "    counts += 1"
   ]
  },
  {
   "cell_type": "markdown",
   "id": "aa935890",
   "metadata": {},
   "source": [
    "------------------------------------------------------------------------------\n",
    "### 10. Define an exception called OopsException. Raise this exception to see what happens. Then write the code to catch this exception and print &#39;Caught an oops&#39;."
   ]
  },
  {
   "cell_type": "code",
   "execution_count": 28,
   "id": "d08345ef",
   "metadata": {},
   "outputs": [
    {
     "name": "stdout",
     "output_type": "stream",
     "text": [
      "Caught an oops -1\n"
     ]
    }
   ],
   "source": [
    "class OopsException(Exception):\n",
    "    pass\n",
    "\n",
    "def raiseException(num):\n",
    "    if num < 0:\n",
    "        raise OopsException(num)\n",
    "\n",
    "try:\n",
    "    raiseException(-1)\n",
    "except OopsException as err:\n",
    "    print('Caught an oops', err)"
   ]
  },
  {
   "cell_type": "markdown",
   "id": "4afb2708",
   "metadata": {},
   "source": [
    "------------------------------------------------------------------------------------\n",
    "### 11. Use zip() to make a dictionary called movies that pairs these lists: titles = [&#39;Creature of Habit&#39;, &#39;Crewel Fate&#39;] and plots = [&#39;A nun turns into a monster&#39;, &#39;A haunted yarn shop&#39;]."
   ]
  },
  {
   "cell_type": "code",
   "execution_count": 29,
   "id": "de0b43bd",
   "metadata": {},
   "outputs": [
    {
     "name": "stdout",
     "output_type": "stream",
     "text": [
      "{'Creature of Habit': 'A nun turns into a monster', 'Crewel Fate': 'A haunted yarn shop'}\n"
     ]
    }
   ],
   "source": [
    "titles = ['Creature of Habit', 'Crewel Fate']\n",
    "plots = ['A nun turns into a monster', 'A haunted yarn shop']\n",
    "\n",
    "movies = {}\n",
    "for title, plot in zip(titles, plots):\n",
    "    movies = dict(zip(titles, plots))\n",
    "print(movies)"
   ]
  }
 ],
 "metadata": {
  "kernelspec": {
   "display_name": "Python 3 (ipykernel)",
   "language": "python",
   "name": "python3"
  },
  "language_info": {
   "codemirror_mode": {
    "name": "ipython",
    "version": 3
   },
   "file_extension": ".py",
   "mimetype": "text/x-python",
   "name": "python",
   "nbconvert_exporter": "python",
   "pygments_lexer": "ipython3",
   "version": "3.9.13"
  }
 },
 "nbformat": 4,
 "nbformat_minor": 5
}
