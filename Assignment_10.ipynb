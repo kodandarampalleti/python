{
 "cells": [
  {
   "cell_type": "markdown",
   "id": "b3fccb31",
   "metadata": {},
   "source": [
    "### 1. How do you distinguish between shutil.copy() and shutil.copytree()?"
   ]
  },
  {
   "cell_type": "markdown",
   "id": "422185b8",
   "metadata": {},
   "source": [
    "While shutil. copy() will copy a single file, shutil. copytree() will copy an entire folder and every folder and file contained in it"
   ]
  },
  {
   "cell_type": "markdown",
   "id": "b9e95261",
   "metadata": {},
   "source": [
    "---------------------------------------------------\n",
    "### 2. What function is used to rename files?"
   ]
  },
  {
   "cell_type": "markdown",
   "id": "d1e105da",
   "metadata": {},
   "source": [
    "The os.rename() function is used to rename files in python"
   ]
  },
  {
   "cell_type": "markdown",
   "id": "26006036",
   "metadata": {},
   "source": [
    "-----------------------------------------------\n",
    "### 3. What is the difference between the delete functions in the send2trash and shutil modules?"
   ]
  },
  {
   "cell_type": "markdown",
   "id": "59bfb024",
   "metadata": {},
   "source": [
    "The send2trash functions will move a file or folder to the recycle bin, while shutil functions will permanently delete files and folders"
   ]
  },
  {
   "cell_type": "markdown",
   "id": "31464050",
   "metadata": {},
   "source": [
    "------------------------------------------------------\n",
    "### 4.ZipFile objects have a close() method just like File objects’ close() method. What ZipFile method is equivalent to File objects’ open() method?"
   ]
  },
  {
   "cell_type": "markdown",
   "id": "8d856347",
   "metadata": {},
   "source": [
    "The zipfile.ZipFile() function is equivalent to the open() function; the first argument is the filename, and the second argument is the mode to open the ZIP file in (read, write, or append)"
   ]
  },
  {
   "cell_type": "markdown",
   "id": "859d76ea",
   "metadata": {},
   "source": [
    "---------------------------------------------------\n",
    "### 5. Create a programme that searches a folder tree for files with a certain file extension (such as .pdf or .jpg). Copy these files from whatever location they are in to a new folder."
   ]
  },
  {
   "cell_type": "code",
   "execution_count": 2,
   "id": "79ef4724",
   "metadata": {},
   "outputs": [],
   "source": [
    "import os\n",
    "import shutil\n",
    "\n",
    "def copy_files_with_extension(source_dir, target_dir, extension):\n",
    "    \"\"\"\n",
    "    Copies all files with the specified extension from the source directory and its subdirectories\n",
    "    to the target directory.\n",
    "    \"\"\"\n",
    "  \n",
    "    if not os.path.exists(target_dir):\n",
    "        os.makedirs(target_dir)\n",
    "    for root, dirs, files in os.walk(source_dir):\n",
    "        for file in files:\n",
    "            if file.endswith(extension):\n",
    "                source_path = os.path.join(root, file)\n",
    "                target_path = os.path.join(target_dir, file)\n",
    "                shutil.copy2(source_path, target_path)\n",
    "\n",
    "\n",
    "source_dir = r'C:\\Users\\Ram\\Downloads\\B9ECED6F.ASUSPCAssistant_qmba6cd70vzyy!App'\n",
    "target_dir = r'C:\\Users\\Ram\\Downloads'\n",
    "extension = '.pdf'\n",
    "\n",
    "copy_files_with_extension(source_dir, target_dir, extension)\n"
   ]
  }
 ],
 "metadata": {
  "kernelspec": {
   "display_name": "Python 3 (ipykernel)",
   "language": "python",
   "name": "python3"
  },
  "language_info": {
   "codemirror_mode": {
    "name": "ipython",
    "version": 3
   },
   "file_extension": ".py",
   "mimetype": "text/x-python",
   "name": "python",
   "nbconvert_exporter": "python",
   "pygments_lexer": "ipython3",
   "version": "3.9.13"
  }
 },
 "nbformat": 4,
 "nbformat_minor": 5
}
