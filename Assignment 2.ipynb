{
 "cells": [
  {
   "cell_type": "markdown",
   "id": "c75f8d8d",
   "metadata": {},
   "source": [
    "### 1.What are the two values of the Boolean data type? How do you write them?"
   ]
  },
  {
   "cell_type": "markdown",
   "id": "cc79ebdf",
   "metadata": {},
   "source": [
    "sol : True and False are two values of boolean data type and we should write first letter as a capital and rest of lower case"
   ]
  },
  {
   "cell_type": "markdown",
   "id": "bcc02519",
   "metadata": {},
   "source": [
    "### 2. What are the three different types of Boolean operators?"
   ]
  },
  {
   "cell_type": "markdown",
   "id": "68201252",
   "metadata": {},
   "source": [
    "sol : True , False and not "
   ]
  },
  {
   "cell_type": "markdown",
   "id": "4feeaaa1",
   "metadata": {},
   "source": [
    "### 3. Make a list of each Boolean operator&#39;s truth tables (i.e. every possible combination of Booleanvalues for the operator and what it evaluate ). "
   ]
  },
  {
   "cell_type": "markdown",
   "id": "96c9a5ea",
   "metadata": {},
   "source": [
    "True and True = True\n",
    "\n",
    "True and False = False\n",
    "\n",
    "False and False = False\n",
    "\n",
    "False or False = False\n",
    "\n",
    "False or True = True\n",
    "\n",
    "True or True = True\n",
    "\n",
    "not True = False \n",
    "\n",
    "not False = True\n"
   ]
  },
  {
   "cell_type": "markdown",
   "id": "14950736",
   "metadata": {},
   "source": [
    "### 4. What are the values of the following expressions? \n",
    "\n",
    "(5 &gt; 4) and (3 == 5)\n",
    "\n",
    "not (5 &gt; 4)\n",
    "\n",
    "(5 &gt; 4) or (3 == 5)\n",
    "\n",
    "not ((5 &gt; 4) or (3 == 5))\n",
    "\n",
    "(True and True) and (True == False)\n",
    "\n",
    "(not False) or (not True)"
   ]
  },
  {
   "cell_type": "markdown",
   "id": "924480d9",
   "metadata": {},
   "source": [
    "sol : False , False , True , False , False ,True"
   ]
  },
  {
   "cell_type": "markdown",
   "id": "fabbe5ee",
   "metadata": {},
   "source": [
    "### 5. What are the six comparison operators? "
   ]
  },
  {
   "cell_type": "markdown",
   "id": "98c5d80c",
   "metadata": {},
   "source": [
    "sol : == ; != ; < ; > ; =< and >=  "
   ]
  },
  {
   "cell_type": "markdown",
   "id": "7921c99c",
   "metadata": {},
   "source": [
    "### 6. How do you tell the difference between the equal to and assignment operators?Describe a condition and when you would use one. "
   ]
  },
  {
   "cell_type": "markdown",
   "id": "1f597f7b",
   "metadata": {},
   "source": [
    "sol : == means when we comparing two values are equal or not and assignment operator is whenever we are assigns value to  variable or stored in variable we use equal is sign (=)"
   ]
  },
  {
   "cell_type": "markdown",
   "id": "62a232be",
   "metadata": {},
   "source": [
    "### 7. Identify the three blocks in this code:\n",
    "\n",
    "spam = 0\n",
    "\n",
    "if spam == 10:\n",
    "\n",
    "print(&#39;eggs&#39;)\n",
    "\n",
    "if spam &gt; 5:\n",
    "\n",
    "print(&#39;bacon&#39;)\n",
    "\n",
    "else:\n",
    "\n",
    "print(&#39;ham&#39;)\n",
    "\n",
    "print(&#39;spam&#39;)\n",
    "\n",
    "print(&#39;spam&#39;) "
   ]
  },
  {
   "cell_type": "markdown",
   "id": "36a99e3a",
   "metadata": {},
   "source": [
    "sol : The three blocks are everything inside the if statement and the lines print('bacon') , print('ham') and print('eggs')\n",
    "\n",
    "if spam > 5:\n",
    "\n",
    "     print('bacon')\n",
    "\n",
    "else:\n",
    "\n",
    "     print('ham')\n",
    "\n",
    "     print('spam')"
   ]
  },
  {
   "cell_type": "markdown",
   "id": "000f8839",
   "metadata": {},
   "source": [
    "### 8. Write code that prints Hello if 1 is stored in spam, prints Howdy if 2 is stored in spam, and prints Greetings! if anything else is stored in spam. "
   ]
  },
  {
   "cell_type": "code",
   "execution_count": 6,
   "id": "15879d4b",
   "metadata": {},
   "outputs": [
    {
     "name": "stdout",
     "output_type": "stream",
     "text": [
      "12\n",
      "Greetings!\n"
     ]
    }
   ],
   "source": [
    "spam = int(input())\n",
    "\n",
    "if spam == 1:\n",
    "    print(\"hello\")\n",
    "elif spam == 2:\n",
    "    print(\"howdy\")\n",
    "else:\n",
    "    print(\"Greetings!\")"
   ]
  },
  {
   "cell_type": "markdown",
   "id": "dba208ba",
   "metadata": {},
   "source": [
    "### 9.If your programme is stuck in an endless loop, what keys you’ll press? "
   ]
  },
  {
   "cell_type": "markdown",
   "id": "34ed07ec",
   "metadata": {},
   "source": [
    "sol : Press CTRL-C to stop a program stuck in an infinite loop."
   ]
  },
  {
   "cell_type": "markdown",
   "id": "a4eba846",
   "metadata": {},
   "source": [
    "### 10. How can you tell the difference between break and continue? "
   ]
  },
  {
   "cell_type": "markdown",
   "id": "9f60e1d8",
   "metadata": {},
   "source": [
    "sol : The break statement will move the execution outside and just after a loop. The continue statement will move the execution to the start of the loop."
   ]
  },
  {
   "cell_type": "markdown",
   "id": "0a643d65",
   "metadata": {},
   "source": [
    "### 11. In a for loop, what is the difference between range(10), range(0, 10), and range(0, 10, 1)?  "
   ]
  },
  {
   "cell_type": "markdown",
   "id": "422f7f55",
   "metadata": {},
   "source": [
    "sol : They all do the same thing. The range(10) call ranges from 0 up to (but not including) 10, range(0, 10) explicitly tells the loop to start at 0, and range(0, 10, 1) explicitly tells the loop to increase the variable by 1 on each iteration."
   ]
  },
  {
   "cell_type": "markdown",
   "id": "c177210a",
   "metadata": {},
   "source": [
    "### 12. Write a short program that prints the numbers 1 to 10 using a for loop. Then write an equivalent program that prints the numbers 1 to 10 using a while loop. "
   ]
  },
  {
   "cell_type": "code",
   "execution_count": 9,
   "id": "c77c6ee3",
   "metadata": {},
   "outputs": [
    {
     "name": "stdout",
     "output_type": "stream",
     "text": [
      "1\n",
      "2\n",
      "3\n",
      "4\n",
      "5\n",
      "6\n",
      "7\n",
      "8\n",
      "9\n",
      "10\n"
     ]
    }
   ],
   "source": [
    "for i in range (1, 11):\n",
    "    print(i)"
   ]
  },
  {
   "cell_type": "code",
   "execution_count": 3,
   "id": "d790f34a",
   "metadata": {},
   "outputs": [
    {
     "name": "stdout",
     "output_type": "stream",
     "text": [
      "1\n",
      "2\n",
      "3\n",
      "4\n",
      "5\n",
      "6\n",
      "7\n",
      "8\n",
      "9\n",
      "10\n"
     ]
    }
   ],
   "source": [
    "i = 1\n",
    "while i < 11:\n",
    "    print(i)\n",
    "    i = i + 1"
   ]
  },
  {
   "cell_type": "markdown",
   "id": "22acf443",
   "metadata": {},
   "source": [
    "### 13. If you had a function named bacon() inside a module named spam, how would you call it after importing spam?"
   ]
  },
  {
   "cell_type": "markdown",
   "id": "22e532b2",
   "metadata": {},
   "source": [
    "sol : This function can be called with spam.bacon()"
   ]
  }
 ],
 "metadata": {
  "kernelspec": {
   "display_name": "Python 3 (ipykernel)",
   "language": "python",
   "name": "python3"
  },
  "language_info": {
   "codemirror_mode": {
    "name": "ipython",
    "version": 3
   },
   "file_extension": ".py",
   "mimetype": "text/x-python",
   "name": "python",
   "nbconvert_exporter": "python",
   "pygments_lexer": "ipython3",
   "version": "3.9.12"
  }
 },
 "nbformat": 4,
 "nbformat_minor": 5
}
