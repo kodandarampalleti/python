{
 "cells": [
  {
   "cell_type": "markdown",
   "id": "2d33aa7c",
   "metadata": {},
   "source": [
    "# 1. Why are functions advantageous to have in your programs?"
   ]
  },
  {
   "cell_type": "markdown",
   "id": "6c0b4cc1",
   "metadata": {},
   "source": [
    "### Sol : Functions reduce the need for duplicate code. This makes programs shorter, easier to read, and easier to update. "
   ]
  },
  {
   "cell_type": "markdown",
   "id": "e7302569",
   "metadata": {},
   "source": [
    "# 2. When does the code in a function run: when it's specified or when it's called?"
   ]
  },
  {
   "cell_type": "markdown",
   "id": "ef8bd5bc",
   "metadata": {},
   "source": [
    "###  sol : The code in a function executes when the function is called and return the value , not when the function is defined."
   ]
  },
  {
   "cell_type": "markdown",
   "id": "932ed76a",
   "metadata": {},
   "source": [
    "# 3. What statement creates a function?"
   ]
  },
  {
   "cell_type": "markdown",
   "id": "1f30cb0c",
   "metadata": {},
   "source": [
    "### sol : we use reversed keyword def which create a function statement. "
   ]
  },
  {
   "cell_type": "markdown",
   "id": "b68bcd47",
   "metadata": {},
   "source": [
    "# 4. What is the difference between a function and a function call?"
   ]
  },
  {
   "cell_type": "markdown",
   "id": "371209d1",
   "metadata": {},
   "source": [
    "### sol :  function is statement without execute the program  and code in its def clause and function call execute the program we written in function and evaluates to the function return value."
   ]
  },
  {
   "cell_type": "markdown",
   "id": "23ad9912",
   "metadata": {},
   "source": [
    "# 5. How many global scopes are there in a Python program? How many local scopes?"
   ]
  },
  {
   "cell_type": "markdown",
   "id": "146f020b",
   "metadata": {},
   "source": [
    "### sol : one global scopes and one local scopes  "
   ]
  },
  {
   "cell_type": "markdown",
   "id": "64ff87cf",
   "metadata": {},
   "source": [
    "# 6. What happens to variables in a local scope when the function call returns?"
   ]
  },
  {
   "cell_type": "markdown",
   "id": "37b5e8c4",
   "metadata": {},
   "source": [
    "### sol : When a function returns, the local scope is destroyed, and all the variables in it are forgotten. "
   ]
  },
  {
   "cell_type": "markdown",
   "id": "fa57914f",
   "metadata": {},
   "source": [
    "# 7. What is the concept of a return value? Is it possible to have a return value in an expression?"
   ]
  },
  {
   "cell_type": "markdown",
   "id": "dff2757d",
   "metadata": {},
   "source": [
    "### sol : The concept of a vreturn value in function call evaluates to the value and like any value a return value can be used as a expression. "
   ]
  },
  {
   "cell_type": "markdown",
   "id": "30ed641f",
   "metadata": {},
   "source": [
    "# 8. If a function does not have a return statement, what is the return value of a call to that function?"
   ]
  },
  {
   "cell_type": "markdown",
   "id": "ebe90b86",
   "metadata": {},
   "source": [
    "### sol : if function does not have a return statement  then its return  value is none."
   ]
  },
  {
   "cell_type": "markdown",
   "id": "5eeb440f",
   "metadata": {},
   "source": [
    "# 9. How do you make a function variable refer to the global variable?"
   ]
  },
  {
   "cell_type": "markdown",
   "id": "34f4ff09",
   "metadata": {},
   "source": [
    "### sol : A global statement will force a variable in a function to refer to the global variable. "
   ]
  },
  {
   "cell_type": "markdown",
   "id": "867ccf32",
   "metadata": {},
   "source": [
    "# 10. What is the data type of None?"
   ]
  },
  {
   "cell_type": "markdown",
   "id": "7a32a6ad",
   "metadata": {},
   "source": [
    "### sol : The data type of None is None type "
   ]
  },
  {
   "cell_type": "markdown",
   "id": "771528ef",
   "metadata": {},
   "source": [
    "# 11. What does the sentence import areallyourpetsnamederic do?"
   ]
  },
  {
   "cell_type": "markdown",
   "id": "c4346dea",
   "metadata": {},
   "source": [
    "### sol : import statement import a module named areallyourpetsnamederic ( by the way this is not real python module )."
   ]
  },
  {
   "cell_type": "markdown",
   "id": "4e8fb4df",
   "metadata": {},
   "source": [
    "# 12. If you had a bacon() feature in a spam module, what would you call it after importing spam?"
   ]
  },
  {
   "cell_type": "markdown",
   "id": "a4dcee20",
   "metadata": {},
   "source": [
    "### Sol : after we importing module we call it spam.bacon() "
   ]
  },
  {
   "cell_type": "markdown",
   "id": "ab0d0e0f",
   "metadata": {},
   "source": [
    "# 13. What can you do to save a programme from crashing if it encounters an error?"
   ]
  },
  {
   "cell_type": "markdown",
   "id": "0b9ce080",
   "metadata": {},
   "source": [
    "###  sol : we should use exception handling method here by using try block and except block."
   ]
  },
  {
   "cell_type": "markdown",
   "id": "6cad35ca",
   "metadata": {},
   "source": [
    "# 14. What is the purpose of the try clause? What is the purpose of the except clause?"
   ]
  },
  {
   "cell_type": "markdown",
   "id": "6a485718",
   "metadata": {},
   "source": [
    "### Sol : The code run in try clause that might cause an error in a try clause and the code that executed if an error happens goes in the except clause ."
   ]
  }
 ],
 "metadata": {
  "kernelspec": {
   "display_name": "Python 3 (ipykernel)",
   "language": "python",
   "name": "python3"
  },
  "language_info": {
   "codemirror_mode": {
    "name": "ipython",
    "version": 3
   },
   "file_extension": ".py",
   "mimetype": "text/x-python",
   "name": "python",
   "nbconvert_exporter": "python",
   "pygments_lexer": "ipython3",
   "version": "3.9.12"
  }
 },
 "nbformat": 4,
 "nbformat_minor": 5
}
