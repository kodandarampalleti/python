{
 "cells": [
  {
   "cell_type": "markdown",
   "id": "f4b95e8f",
   "metadata": {},
   "source": [
    "# 1. Why are functions advantageous to have in your programs?"
   ]
  },
  {
   "cell_type": "markdown",
   "id": "d260ec4d",
   "metadata": {},
   "source": [
    "### Sol : Functions reduce the need for duplicate code. This makes programs shorter, easier to read, and easier to update. "
   ]
  },
  {
   "cell_type": "markdown",
   "id": "6fdfd113",
   "metadata": {},
   "source": [
    "# 2. When does the code in a function run: when it's specified or when it's called?"
   ]
  },
  {
   "cell_type": "markdown",
   "id": "52432eca",
   "metadata": {},
   "source": [
    "###  sol : The code in a function executes when the function is called and return the value , not when the function is defined."
   ]
  },
  {
   "cell_type": "markdown",
   "id": "8e8852ee",
   "metadata": {},
   "source": [
    "# 3. What statement creates a function?"
   ]
  },
  {
   "cell_type": "markdown",
   "id": "faba8946",
   "metadata": {},
   "source": [
    "### sol : we use reversed keyword def which create a function statement "
   ]
  },
  {
   "cell_type": "markdown",
   "id": "e9eee5e6",
   "metadata": {},
   "source": [
    "# 4. What is the difference between a function and a function call?"
   ]
  },
  {
   "cell_type": "markdown",
   "id": "df37b48a",
   "metadata": {},
   "source": [
    "### sol :  function is statement without execute the program  and code in its def clause and function call execute the program we written in function and evaluates to the function return value"
   ]
  },
  {
   "cell_type": "markdown",
   "id": "4bad11dc",
   "metadata": {},
   "source": [
    "# 5. How many global scopes are there in a Python program? How many local scopes?"
   ]
  },
  {
   "cell_type": "markdown",
   "id": "17746de6",
   "metadata": {},
   "source": [
    "### sol : one global scopes and one local scopes  "
   ]
  },
  {
   "cell_type": "markdown",
   "id": "14e0e9a8",
   "metadata": {},
   "source": [
    "# 6. What happens to variables in a local scope when the function call returns?"
   ]
  },
  {
   "cell_type": "markdown",
   "id": "8cd1411e",
   "metadata": {},
   "source": [
    "### sol : When a function returns, the local scope is destroyed, and all the variables in it are forgotten "
   ]
  },
  {
   "cell_type": "markdown",
   "id": "ce56c4a2",
   "metadata": {},
   "source": [
    "# 7. What is the concept of a return value? Is it possible to have a return value in an expression?"
   ]
  },
  {
   "cell_type": "markdown",
   "id": "d5a5df44",
   "metadata": {},
   "source": [
    "### sol : The concept of a vreturn value in function call evaluates to the value and like any value a return value can be used as a expression "
   ]
  },
  {
   "cell_type": "markdown",
   "id": "610b5c8a",
   "metadata": {},
   "source": [
    "# 8. If a function does not have a return statement, what is the return value of a call to that function?"
   ]
  },
  {
   "cell_type": "markdown",
   "id": "81878827",
   "metadata": {},
   "source": [
    "### sol : if function does not have a return statement  then its return  value is none"
   ]
  },
  {
   "cell_type": "markdown",
   "id": "b13c7829",
   "metadata": {},
   "source": [
    "# 9. How do you make a function variable refer to the global variable?"
   ]
  },
  {
   "cell_type": "markdown",
   "id": "e364944c",
   "metadata": {},
   "source": [
    "### sol : A global statement will force a variable in a function to refer to the global variable "
   ]
  },
  {
   "cell_type": "markdown",
   "id": "b8b105b0",
   "metadata": {},
   "source": [
    "# 10. What is the data type of None?"
   ]
  },
  {
   "cell_type": "markdown",
   "id": "297548bb",
   "metadata": {},
   "source": [
    "### sol : The data type of None is None type "
   ]
  },
  {
   "cell_type": "markdown",
   "id": "df53388e",
   "metadata": {},
   "source": [
    "# 11. What does the sentence import areallyourpetsnamederic do?"
   ]
  },
  {
   "cell_type": "markdown",
   "id": "13f4f558",
   "metadata": {},
   "source": [
    "### sol : import statement import a module named areallyourpetsnamederic ( by the way this is not real python module )"
   ]
  },
  {
   "cell_type": "markdown",
   "id": "96db26e2",
   "metadata": {},
   "source": [
    "# 12. If you had a bacon() feature in a spam module, what would you call it after importing spam?"
   ]
  },
  {
   "cell_type": "markdown",
   "id": "a454766d",
   "metadata": {},
   "source": [
    "### Sol : after we importing module we call it spam.bacon() "
   ]
  },
  {
   "cell_type": "markdown",
   "id": "79d5bd7b",
   "metadata": {},
   "source": [
    "# 13. What can you do to save a programme from crashing if it encounters an error?"
   ]
  },
  {
   "cell_type": "markdown",
   "id": "87a1779d",
   "metadata": {},
   "source": [
    "###  sol : we should use exception handling method here by using try block and except block"
   ]
  },
  {
   "cell_type": "markdown",
   "id": "02228b7f",
   "metadata": {},
   "source": [
    "# 14. What is the purpose of the try clause? What is the purpose of the except clause?"
   ]
  },
  {
   "cell_type": "markdown",
   "id": "a5c4a7f8",
   "metadata": {},
   "source": [
    "### Sol : The code run in try clause that might cause an error in a try clause and the code that executed i "
   ]
  }
 ],
 "metadata": {
  "kernelspec": {
   "display_name": "Python 3 (ipykernel)",
   "language": "python",
   "name": "python3"
  },
  "language_info": {
   "codemirror_mode": {
    "name": "ipython",
    "version": 3
   },
   "file_extension": ".py",
   "mimetype": "text/x-python",
   "name": "python",
   "nbconvert_exporter": "python",
   "pygments_lexer": "ipython3",
   "version": "3.9.12"
  }
 },
 "nbformat": 4,
 "nbformat_minor": 5
}
