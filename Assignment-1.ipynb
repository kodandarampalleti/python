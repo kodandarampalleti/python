{
 "cells": [
  {
   "cell_type": "markdown",
   "id": "2829b6c3",
   "metadata": {},
   "source": [
    "## 1.In the below elements which of them are values or an expression? eg:- values can be integer or string and expressions will be mathematical operators.\n",
    "\n",
    "   *\n",
    "   \n",
    "   'hello'\n",
    "   \n",
    "   -87.8\n",
    "   \n",
    "   \n",
    "   -\n",
    "   \n",
    "   /\n",
    "   \n",
    "   +\n",
    "   \n",
    "   6\n",
    "\n",
    "sol : values are 'hello' , 6 , -87.8\n",
    "     Expressions are * , + , - , / , +\n",
    "     "
   ]
  },
  {
   "cell_type": "markdown",
   "id": "55e2da62",
   "metadata": {},
   "source": [
    "## 2.What is the difference between string and variable?\n",
    "\n",
    "sol : string is a sequence of character (or) elements in the from data and variable is a store data of information  in            program and gives it a specific name\n",
    "\n",
    "Note- we can't name variable in integer on first \n"
   ]
  },
  {
   "cell_type": "markdown",
   "id": "e0ef38e3",
   "metadata": {},
   "source": [
    "## 3.Describe three different data types.\n",
    "\n",
    "sol : Integer - It is a number with no decimal part ex - 6 ,5 ,3 ,2 \n",
    "\n",
    "   Float - It is a number with decimal part \n",
    "   \n",
    "   Ex - 2.13, 3.145 ,5.41\n",
    "\n",
    "   String - set of characters together or sequence of character and we should always enclose string with double quotes or      single quotes in python programming\n",
    "    "
   ]
  },
  {
   "cell_type": "markdown",
   "id": "054e11e6",
   "metadata": {},
   "source": [
    "## 4.What is an expression made up of? What do all expressions do?\n",
    "\n",
    "sol : An expression is a combination of values and operators. All expressions evaluate that is reduce to a single value.\n"
   ]
  },
  {
   "cell_type": "markdown",
   "id": "d41f55fd",
   "metadata": {},
   "source": [
    "## 5.This assignment statements, like spam = 10. What is the difference between an expression and a statement?\n",
    "\n",
    "  \n",
    "sol : An expression evaluates to a single value. A statement does not.\n"
   ]
  },
  {
   "cell_type": "markdown",
   "id": "7873ab6f",
   "metadata": {
    "raw_mimetype": "text/x-python"
   },
   "source": [
    "## 6.After running the following code, what does the variable bacon contain?\n",
    "   \n",
    "     bacon = 22\n",
    "   \n",
    "     bacon + 1\n",
    "  \n",
    "sol : The bacon variable is set to 22. The bacon + 1 expression does not reassign the value in bacon\n",
    "\n",
    "    (that would need an assignment statement: bacon = bacon + 1).\n",
    "    "
   ]
  },
  {
   "cell_type": "markdown",
   "id": "b242635c",
   "metadata": {
    "slideshow": {
     "slide_type": "notes"
    }
   },
   "source": [
    "# #7.What should the values of the following two terms be?\n",
    "\n",
    "   \n",
    "      spam + spamspam\n",
    "   \n",
    "      spam * 3\n",
    "   \n",
    "sol : Both expressions evaluate to the string\n",
    "\n",
    "         'spamspamspam'.\n",
    "          "
   ]
  },
  {
   "cell_type": "markdown",
   "id": "46b54754",
   "metadata": {},
   "source": [
    "## 8.Why is eggs a valid variable name while 100 is invalid?\n"
   ]
  },
  {
   "cell_type": "markdown",
   "id": "71fa033c",
   "metadata": {},
   "source": [
    "sol : Variable names cannot begin with a number."
   ]
  },
  {
   "cell_type": "markdown",
   "id": "bfddecc6",
   "metadata": {},
   "source": [
    "## 9.What three functions can be used to get the integer, floating-point number, or string version of a value?"
   ]
  },
  {
   "cell_type": "markdown",
   "id": "af1fc58b",
   "metadata": {},
   "source": [
    "sol : The int(), float(), and str() functions will evaluate to the integer, floating-point number, and string versions of the     value passed to them."
   ]
  },
  {
   "cell_type": "markdown",
   "id": "665b7936",
   "metadata": {},
   "source": [
    "## 10.Why does this expression cause an error? How can you fix it?\n",
    "                |'I have eaten' + 99 + ' burritos'.|\n",
    "    \n"
   ]
  },
  {
   "cell_type": "markdown",
   "id": "19bec7b9",
   "metadata": {},
   "source": [
    "sol : The expression causes an error because 99 is an integer, and only strings can be concatenated to other strings with the     + operator. \n",
    "   \n",
    "   'The correct way is I have eaten ' + ' 99 ' + ' burritos.'."
   ]
  }
 ],
 "metadata": {
  "celltoolbar": "Raw Cell Format",
  "kernelspec": {
   "display_name": "Python 3 (ipykernel)",
   "language": "python",
   "name": "python3"
  },
  "language_info": {
   "codemirror_mode": {
    "name": "ipython",
    "version": 3
   },
   "file_extension": ".py",
   "mimetype": "text/x-python",
   "name": "python",
   "nbconvert_exporter": "python",
   "pygments_lexer": "ipython3",
   "version": "3.9.12"
  }
 },
 "nbformat": 4,
 "nbformat_minor": 5
}
