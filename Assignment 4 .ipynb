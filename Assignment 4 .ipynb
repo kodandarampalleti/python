{
 "cells": [
  {
   "cell_type": "markdown",
   "id": "8e6a485c",
   "metadata": {},
   "source": [
    "## 1. What exactly is [ ] ? "
   ]
  },
  {
   "cell_type": "markdown",
   "id": "53c723e2",
   "metadata": {},
   "source": [
    "### Ans : It is empty list"
   ]
  },
  {
   "cell_type": "markdown",
   "id": "154e62e8",
   "metadata": {},
   "source": [
    "## 2. In a list of values stored in a variable called spam, how would you assign the value &#39;hello&#39; as the third value? (Assume [2, 4, 6, 8, 10] are in spam.)"
   ]
  },
  {
   "cell_type": "code",
   "execution_count": 8,
   "id": "fe9d1fe7",
   "metadata": {},
   "outputs": [],
   "source": [
    "spam = [2,3,4,8,10]"
   ]
  },
  {
   "cell_type": "code",
   "execution_count": 9,
   "id": "723a6e5a",
   "metadata": {},
   "outputs": [],
   "source": [
    "spam.insert(3 , \"hello\")"
   ]
  },
  {
   "cell_type": "code",
   "execution_count": 10,
   "id": "995bc1b5",
   "metadata": {},
   "outputs": [
    {
     "data": {
      "text/plain": [
       "[2, 3, 4, 'hello', 8, 10]"
      ]
     },
     "execution_count": 10,
     "metadata": {},
     "output_type": "execute_result"
    }
   ],
   "source": [
    "spam"
   ]
  },
  {
   "cell_type": "markdown",
   "id": "1b835ec1",
   "metadata": {},
   "source": [
    "## Let's pretend the spam includes the list ['a','b','c','d'] for the next three queries."
   ]
  },
  {
   "cell_type": "code",
   "execution_count": 11,
   "id": "437c1c62",
   "metadata": {},
   "outputs": [],
   "source": [
    "spam = ['a','b' ,'c' ,'d']"
   ]
  },
  {
   "cell_type": "markdown",
   "id": "ebfc3c6d",
   "metadata": {},
   "source": [
    "## 3. What is the value of spam[int(int('3' * 2) / 11)]?"
   ]
  },
  {
   "cell_type": "markdown",
   "id": "f3403089",
   "metadata": {},
   "source": [
    "### Ans : The value of spam is \" d \""
   ]
  },
  {
   "cell_type": "markdown",
   "id": "00a3c59d",
   "metadata": {},
   "source": [
    "## 4. What is the value of spam[-1]?"
   ]
  },
  {
   "cell_type": "markdown",
   "id": "1a5b1f3c",
   "metadata": {},
   "source": [
    "###  Ans : The value of spam is \" d \""
   ]
  },
  {
   "cell_type": "markdown",
   "id": "91ffa402",
   "metadata": {},
   "source": [
    "## 5. What is the value of spam[:2]?"
   ]
  },
  {
   "cell_type": "markdown",
   "id": "a18aa01f",
   "metadata": {},
   "source": [
    "### Ans : The value of spam is ['a' , 'b'] "
   ]
  },
  {
   "cell_type": "markdown",
   "id": "82a8da18",
   "metadata": {},
   "source": [
    "## Let&#39;s pretend bacon has the list [3.14, &#39;cat,&#39; 11, &#39;cat,&#39; True] for the next three questions."
   ]
  },
  {
   "cell_type": "code",
   "execution_count": 12,
   "id": "e59fbda5",
   "metadata": {},
   "outputs": [],
   "source": [
    "bacon = [3.14 , \"cat\" , 11 , \"cat\" , True]"
   ]
  },
  {
   "cell_type": "markdown",
   "id": "0407415d",
   "metadata": {},
   "source": [
    "## 6. What is the value of bacon.index(&#39;cat&#39;)?"
   ]
  },
  {
   "cell_type": "markdown",
   "id": "aa752984",
   "metadata": {},
   "source": [
    "### Ans : The value is 1"
   ]
  },
  {
   "cell_type": "markdown",
   "id": "e23e9c2d",
   "metadata": {},
   "source": [
    "## 7. How does bacon.append(99) change the look of the list value in bacon?"
   ]
  },
  {
   "cell_type": "code",
   "execution_count": 14,
   "id": "af56ccf3",
   "metadata": {},
   "outputs": [],
   "source": [
    "bacon.append(99)"
   ]
  },
  {
   "cell_type": "code",
   "execution_count": 15,
   "id": "61ffc839",
   "metadata": {},
   "outputs": [
    {
     "data": {
      "text/plain": [
       "[3.14, 'cat', 11, 'cat', True, 99]"
      ]
     },
     "execution_count": 15,
     "metadata": {},
     "output_type": "execute_result"
    }
   ],
   "source": [
    "bacon"
   ]
  },
  {
   "cell_type": "markdown",
   "id": "b2413881",
   "metadata": {},
   "source": [
    "## 8. How does bacon.remove(&#39;cat&#39;) change the look of the list in bacon?"
   ]
  },
  {
   "cell_type": "code",
   "execution_count": 16,
   "id": "c23c9dc4",
   "metadata": {},
   "outputs": [],
   "source": [
    "bacon.remove(\"cat\")"
   ]
  },
  {
   "cell_type": "code",
   "execution_count": 17,
   "id": "8f714488",
   "metadata": {},
   "outputs": [
    {
     "data": {
      "text/plain": [
       "[3.14, 11, 'cat', True, 99]"
      ]
     },
     "execution_count": 17,
     "metadata": {},
     "output_type": "execute_result"
    }
   ],
   "source": [
    "bacon"
   ]
  },
  {
   "cell_type": "markdown",
   "id": "08029ad7",
   "metadata": {},
   "source": [
    "## 9. What are the list concatenation and list replication operators?"
   ]
  },
  {
   "cell_type": "markdown",
   "id": "cf0fde29",
   "metadata": {},
   "source": [
    "### Ans : The operator for list concatenation is +, while the operator for replication is *. (This is the same as for strings.)"
   ]
  },
  {
   "cell_type": "markdown",
   "id": "92b1153a",
   "metadata": {},
   "source": [
    "## 10. What is difference between the list methods append() and insert()?"
   ]
  },
  {
   "cell_type": "markdown",
   "id": "71858c94",
   "metadata": {},
   "source": [
    "### Ans : In list methods append is function which append the values at last position and insert is function which will insert at particular index point we need "
   ]
  },
  {
   "cell_type": "markdown",
   "id": "6018c20e",
   "metadata": {},
   "source": [
    "## 11. What are the two methods for removing items from a list?"
   ]
  },
  {
   "cell_type": "markdown",
   "id": "eadec24c",
   "metadata": {},
   "source": [
    "### Ans : Remove function and pop function "
   ]
  },
  {
   "cell_type": "markdown",
   "id": "5bbbf8b9",
   "metadata": {},
   "source": [
    "## 12. Describe how list values and string values are identical."
   ]
  },
  {
   "cell_type": "markdown",
   "id": "89e68f32",
   "metadata": {},
   "source": [
    "### Ans : List values and string values are both collections of individual values."
   ]
  },
  {
   "cell_type": "markdown",
   "id": "3df0ca19",
   "metadata": {},
   "source": [
    "## 13. What&#39;s the difference between tuples and lists?"
   ]
  },
  {
   "cell_type": "markdown",
   "id": "42e06dff",
   "metadata": {},
   "source": [
    "### Ans : Tuples are collection of element and immutable . It represent by normal brackets ( ) .List is combination of element and mutable .which is enclosed with square brackets [ ] "
   ]
  },
  {
   "cell_type": "markdown",
   "id": "6479e888",
   "metadata": {},
   "source": [
    "## 14. How do you type a tuple value that only contains the integer 42?"
   ]
  },
  {
   "cell_type": "markdown",
   "id": "bce447cd",
   "metadata": {},
   "source": [
    "### Ans : ( 42 )"
   ]
  },
  {
   "cell_type": "markdown",
   "id": "b55349be",
   "metadata": {},
   "source": [
    "## 15. How do you get a list value&#39;s tuple form? How do you get a tuple value&#39;s list form?"
   ]
  },
  {
   "cell_type": "markdown",
   "id": "95d57b9d",
   "metadata": {},
   "source": [
    "### Ans : A: Convert a tuple to a list: list(tuple) Convert a list to a tuple: tuple(list)"
   ]
  },
  {
   "cell_type": "markdown",
   "id": "52435b97",
   "metadata": {},
   "source": [
    "## 16. Variables that &quot;contain&quot; list values are not necessarily lists themselves. Instead, what do they contain?"
   ]
  },
  {
   "cell_type": "markdown",
   "id": "f8aa2481",
   "metadata": {},
   "source": [
    "### Ans : They contain pointers to list values."
   ]
  },
  {
   "cell_type": "markdown",
   "id": "477cffe1",
   "metadata": {},
   "source": [
    "## 17. How do you distinguish between copy.copy() and copy.deepcopy()?"
   ]
  },
  {
   "cell_type": "markdown",
   "id": "49a3fb09",
   "metadata": {},
   "source": [
    "### Ans : The copy.copy() function will do a shallow copy of a list, while the copy.deepcopy() function will do a deep copy of a list. That is, only copy.deepcopy() will duplicate any lists inside the list"
   ]
  }
 ],
 "metadata": {
  "kernelspec": {
   "display_name": "Python 3 (ipykernel)",
   "language": "python",
   "name": "python3"
  },
  "language_info": {
   "codemirror_mode": {
    "name": "ipython",
    "version": 3
   },
   "file_extension": ".py",
   "mimetype": "text/x-python",
   "name": "python",
   "nbconvert_exporter": "python",
   "pygments_lexer": "ipython3",
   "version": "3.9.12"
  }
 },
 "nbformat": 4,
 "nbformat_minor": 5
}
