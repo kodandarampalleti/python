{
 "cells": [
  {
   "cell_type": "markdown",
   "id": "b0411989",
   "metadata": {},
   "source": [
    "### 1. Write a Python Program to Add Two Matrices?"
   ]
  },
  {
   "cell_type": "code",
   "execution_count": 5,
   "id": "d09f541b",
   "metadata": {},
   "outputs": [
    {
     "name": "stdout",
     "output_type": "stream",
     "text": [
      "[11, 13, 15]\n",
      "[17, 19, 21]\n",
      "[23, 25, 27]\n"
     ]
    }
   ],
   "source": [
    "X = [[1,2,3],\n",
    "    [4,5,6],\n",
    "    [7,8,9]]\n",
    " \n",
    "Y = [[10,11,12],\n",
    "    [13,14,15],\n",
    "    [16,17,18]]\n",
    " \n",
    "result = [[0,0,0],\n",
    "        [0,0,0],\n",
    "        [0,0,0]]\n",
    "for i in range(len(X)): \n",
    "    for j in range(len(X[0])):\n",
    "        result[i][j] = X[i][j] + Y[i][j]\n",
    "        \n",
    "for r in result:\n",
    "    print(r)"
   ]
  },
  {
   "cell_type": "markdown",
   "id": "f6445a2a",
   "metadata": {},
   "source": [
    "### 2. Write a Python Program to Multiply Two Matrices?"
   ]
  },
  {
   "cell_type": "code",
   "execution_count": 6,
   "id": "8668f86f",
   "metadata": {},
   "outputs": [
    {
     "name": "stdout",
     "output_type": "stream",
     "text": [
      "[10, 22, 36]\n",
      "[52, 70, 90]\n",
      "[112, 136, 162]\n"
     ]
    }
   ],
   "source": [
    "X = [[1,2,3],\n",
    "    [4,5,6],\n",
    "    [7,8,9]]\n",
    " \n",
    "Y = [[10,11,12],\n",
    "    [13,14,15],\n",
    "    [16,17,18]]\n",
    " \n",
    "result = [[0,0,0],\n",
    "        [0,0,0],\n",
    "        [0,0,0]]\n",
    "for i in range(len(X)): \n",
    "    for j in range(len(X[0])):\n",
    "        result[i][j] = X[i][j] * Y[i][j]\n",
    "        \n",
    "for r in result:\n",
    "    print(r)"
   ]
  },
  {
   "cell_type": "markdown",
   "id": "f5dfcace",
   "metadata": {},
   "source": [
    "### 3. Write a Python Program to Transpose a Matrix?"
   ]
  },
  {
   "cell_type": "code",
   "execution_count": 7,
   "id": "e71a11d3",
   "metadata": {},
   "outputs": [
    {
     "name": "stdout",
     "output_type": "stream",
     "text": [
      "[12, 4, 3]\n",
      "[7, 5, 8]\n"
     ]
    }
   ],
   "source": [
    "X = [[12,7],\n",
    "    [4 ,5],\n",
    "    [3 ,8]]\n",
    "\n",
    "result = [[0,0,0],\n",
    "         [0,0,0]]\n",
    "for i in range(len(X)):\n",
    "    for j in range(len(X[0])):\n",
    "        result[j][i] = X[i][j]\n",
    "\n",
    "for r in result:\n",
    "    print(r)"
   ]
  },
  {
   "cell_type": "markdown",
   "id": "3f1f7d8f",
   "metadata": {},
   "source": [
    "### 4. Write a Python Program to Sort Words in Alphabetic Order?"
   ]
  },
  {
   "cell_type": "code",
   "execution_count": 9,
   "id": "a4f17765",
   "metadata": {},
   "outputs": [
    {
     "name": "stdout",
     "output_type": "stream",
     "text": [
      "Enter the words: this is task from the ineuron\n",
      "Sorted order of words:\n",
      "from ineuron is task the this "
     ]
    }
   ],
   "source": [
    "try:\n",
    "    sentance = input(\"Enter the words: \")\n",
    "    words = [word.lower() for word in sentance.split()]\n",
    "    words.sort()\n",
    "    \n",
    "    print(\"Sorted order of words:\")\n",
    "    for word in words:\n",
    "        print(word, end = ' ')\n",
    "    \n",
    "except Exception as e:\n",
    "    print(e)"
   ]
  },
  {
   "cell_type": "markdown",
   "id": "87b2a96b",
   "metadata": {},
   "source": [
    "### 5. Write a Python Program to Remove Punctuation From a String?"
   ]
  },
  {
   "cell_type": "code",
   "execution_count": 10,
   "id": "a6984eae",
   "metadata": {},
   "outputs": [
    {
     "name": "stdout",
     "output_type": "stream",
     "text": [
      "Enter the string: vfk!GFD@#GGUU%^*(FGYU@!#VNMNJ())\n",
      "vfkGFDGGUUFGYUVNMNJ\n"
     ]
    }
   ],
   "source": [
    "punctuations = '''!()-[]{};:'\"\\,<>./?@#$%^&*_~'''\n",
    "\n",
    "string = input(\"Enter the string: \")\n",
    "\n",
    "outputString = \"\"\n",
    "\n",
    "for char in string:\n",
    "    if char not in punctuations:\n",
    "        outputString += char\n",
    "        \n",
    "print(outputString)"
   ]
  },
  {
   "cell_type": "code",
   "execution_count": null,
   "id": "10e6cceb",
   "metadata": {},
   "outputs": [],
   "source": []
  }
 ],
 "metadata": {
  "kernelspec": {
   "display_name": "Python 3 (ipykernel)",
   "language": "python",
   "name": "python3"
  },
  "language_info": {
   "codemirror_mode": {
    "name": "ipython",
    "version": 3
   },
   "file_extension": ".py",
   "mimetype": "text/x-python",
   "name": "python",
   "nbconvert_exporter": "python",
   "pygments_lexer": "ipython3",
   "version": "3.9.13"
  }
 },
 "nbformat": 4,
 "nbformat_minor": 5
}
