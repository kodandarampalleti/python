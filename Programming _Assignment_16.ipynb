{
 "cells": [
  {
   "cell_type": "markdown",
   "id": "66095865",
   "metadata": {},
   "source": [
    "### Question1. Write a function that stutters a word as if someone is struggling to read it. The first two letters are repeated twice with an ellipsis ... and space after each, and then the word is pronounced with a question mark ?.  \n",
    "    \n",
    "    Examples\n",
    "    stutter(&quot;incredible&quot;) ➞ &quot;in... in... incredible?&quot;\n",
    "    stutter(&quot;enthusiastic&quot;) ➞ &quot;en... en... enthusiastic?&quot;\n",
    "    stutter(&quot;outstanding&quot;) ➞ &quot;ou... ou... outstanding?&quot;\n",
    "    Hint :- Assume all input is in lower case and at least two characters long."
   ]
  },
  {
   "cell_type": "code",
   "execution_count": 3,
   "id": "a19fbeab",
   "metadata": {},
   "outputs": [],
   "source": [
    "def stutters(word):\n",
    "    return f\"{word[0:2]}... {word[0:2]}... {word}?\""
   ]
  },
  {
   "cell_type": "code",
   "execution_count": 4,
   "id": "351c09dd",
   "metadata": {},
   "outputs": [
    {
     "data": {
      "text/plain": [
       "'in... in... incredible?'"
      ]
     },
     "execution_count": 4,
     "metadata": {},
     "output_type": "execute_result"
    }
   ],
   "source": [
    "stutters(\"incredible\")"
   ]
  },
  {
   "cell_type": "code",
   "execution_count": 6,
   "id": "b37aec47",
   "metadata": {},
   "outputs": [
    {
     "data": {
      "text/plain": [
       "'en... en... enthusiastic?'"
      ]
     },
     "execution_count": 6,
     "metadata": {},
     "output_type": "execute_result"
    }
   ],
   "source": [
    "stutters('enthusiastic')"
   ]
  },
  {
   "cell_type": "markdown",
   "id": "1e2e3ebd",
   "metadata": {},
   "source": [
    "### Question 2.Create a function that takes an angle in radians and returns the corresponding angle in degrees rounded to one decimal place.\n",
    "    Examples\n",
    "    radians_to_degrees(1) ➞ 57.3\n",
    "    radians_to_degrees(20) ➞ 1145.9\n",
    "    radians_to_degrees(50) ➞ 2864.8"
   ]
  },
  {
   "cell_type": "code",
   "execution_count": 7,
   "id": "296657ce",
   "metadata": {},
   "outputs": [],
   "source": [
    "def radians_to_degrees(radius):\n",
    "    pi = 3.141\n",
    "    radians = radius *180/pi\n",
    "    return radians"
   ]
  },
  {
   "cell_type": "code",
   "execution_count": 8,
   "id": "6734c204",
   "metadata": {},
   "outputs": [
    {
     "data": {
      "text/plain": [
       "57.306590257879655"
      ]
     },
     "execution_count": 8,
     "metadata": {},
     "output_type": "execute_result"
    }
   ],
   "source": [
    "radians_to_degrees(1)"
   ]
  },
  {
   "cell_type": "code",
   "execution_count": 9,
   "id": "cdf1a1da",
   "metadata": {},
   "outputs": [
    {
     "data": {
      "text/plain": [
       "1146.1318051575931"
      ]
     },
     "execution_count": 9,
     "metadata": {},
     "output_type": "execute_result"
    }
   ],
   "source": [
    "radians_to_degrees(20)"
   ]
  },
  {
   "cell_type": "markdown",
   "id": "2de2047c",
   "metadata": {},
   "source": [
    "### Question 3. In this challenge, establish if a given integer num is a Curzon number. If 1 plus 2 elevated to num is exactly divisible by 1 plus 2 multiplied by num, then num is a Curzon number. Given a non-negative integer num, implement a function that returns True if num is a Curzon number, or False otherwise.\n",
    "    Examples\n",
    "    is_curzon(5) ➞ True\n",
    "    # 2 ** 5 + 1 = 33\n",
    "    # 2 * 5 + 1 = 11\n",
    "    # 33 is a multiple of 11\n",
    "    is_curzon(10) ➞ False\n",
    "    # 2 ** 10 + 1 = 1025\n",
    "    # 2 * 10 + 1 = 21\n",
    "    # 1025 is not a multiple of 21\n",
    "    is_curzon(14) ➞ True\n",
    "    # 2 ** 14 + 1 = 16385\n",
    "    # 2 * 14 + 1 = 29\n",
    "    # 16385 is a multiple of 29"
   ]
  },
  {
   "cell_type": "code",
   "execution_count": 36,
   "id": "affeb9b2",
   "metadata": {},
   "outputs": [],
   "source": [
    "def is_curzon(num):\n",
    "    a =  2**(num) + 1\n",
    "    b = 2 * (num) + 1\n",
    "    if a/b :\n",
    "        return f\"{a} is a multile of {b}\"\n",
    "    else : \n",
    "        return f\"{a} is not a multile of {b}\""
   ]
  },
  {
   "cell_type": "code",
   "execution_count": 37,
   "id": "b4fbd3df",
   "metadata": {},
   "outputs": [
    {
     "data": {
      "text/plain": [
       "'33 is a multile of 11'"
      ]
     },
     "execution_count": 37,
     "metadata": {},
     "output_type": "execute_result"
    }
   ],
   "source": [
    "is_curzon(5)"
   ]
  },
  {
   "cell_type": "markdown",
   "id": "0f5c294f",
   "metadata": {},
   "source": [
    "### Question 4.Given the side length x find the area of a hexagon.\n",
    "    Examples\n",
    "    area_of_hexagon(1) ➞ 2.6\n",
    "    area_of_hexagon(2) ➞ 10.4\n",
    "    area_of_hexagon(3) ➞ 23.4"
   ]
  },
  {
   "cell_type": "code",
   "execution_count": 44,
   "id": "496c454b",
   "metadata": {},
   "outputs": [],
   "source": [
    "def area_of_hexagon(num):\n",
    "    import math\n",
    "    area = (3*math.sqrt(3)*(num**2))/2\n",
    "    return area"
   ]
  },
  {
   "cell_type": "code",
   "execution_count": 45,
   "id": "10272ec1",
   "metadata": {},
   "outputs": [
    {
     "data": {
      "text/plain": [
       "2.598076211353316"
      ]
     },
     "execution_count": 45,
     "metadata": {},
     "output_type": "execute_result"
    }
   ],
   "source": [
    "area_of_hexagon(1)"
   ]
  },
  {
   "cell_type": "code",
   "execution_count": 46,
   "id": "17fe5fb7",
   "metadata": {},
   "outputs": [
    {
     "data": {
      "text/plain": [
       "10.392304845413264"
      ]
     },
     "execution_count": 46,
     "metadata": {},
     "output_type": "execute_result"
    }
   ],
   "source": [
    "area_of_hexagon(2)"
   ]
  },
  {
   "cell_type": "markdown",
   "id": "fef43923",
   "metadata": {},
   "source": [
    "### Question 5. Create a function that returns a base-2 (binary) representation of a base-10 (decimal) string number. To convert is simple: ((2) means base-2 and (10) means base-10) 010101001(2) = 1 + 8 + 32 + 128. Going from right to left, the value of the most right bit is 1, now from that every bit to the left will be x2 the value, value of an 8 bit binary numbers are (256, 128, 64, 32, 16, 8, 4, 2, 1).\n",
    "    Examples\n",
    "    binary(1) ➞ \"1\";\n",
    "    # 1*1 = 1\n",
    "    binary(5) ➞ \"101\"\n",
    "    # 1*1 + 1*4 = 5\n",
    "    binary(10) ➞ \"1010\";\n",
    "    # 1*2 + 1*8 = 10"
   ]
  },
  {
   "cell_type": "code",
   "execution_count": 47,
   "id": "2d844ae9",
   "metadata": {},
   "outputs": [
    {
     "name": "stdout",
     "output_type": "stream",
     "text": [
      "1\n",
      "101\n",
      "1010\n"
     ]
    }
   ],
   "source": [
    "def binary(n):\n",
    "    return \"{0:b}\".format(int(n))\n",
    "\n",
    "print(binary(1))\n",
    "print(binary(5))\n",
    "print(binary(10))"
   ]
  }
 ],
 "metadata": {
  "kernelspec": {
   "display_name": "Python 3 (ipykernel)",
   "language": "python",
   "name": "python3"
  },
  "language_info": {
   "codemirror_mode": {
    "name": "ipython",
    "version": 3
   },
   "file_extension": ".py",
   "mimetype": "text/x-python",
   "name": "python",
   "nbconvert_exporter": "python",
   "pygments_lexer": "ipython3",
   "version": "3.9.13"
  }
 },
 "nbformat": 4,
 "nbformat_minor": 5
}
