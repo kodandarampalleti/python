{
 "cells": [
  {
   "cell_type": "markdown",
   "id": "a3df16e1",
   "metadata": {},
   "source": [
    "### 1. Is the Python Standard Library included with PyInputPlus?"
   ]
  },
  {
   "cell_type": "markdown",
   "id": "8a6b4997",
   "metadata": {},
   "source": [
    "Ans : No it is not standard libary  we need to install separately by using pip install pyinputplus"
   ]
  },
  {
   "cell_type": "markdown",
   "id": "01c62a2f",
   "metadata": {},
   "source": [
    "-----------------------\n",
    "### 2. Why is PyInputPlus commonly imported with import pyinputplus as pypi?"
   ]
  },
  {
   "cell_type": "markdown",
   "id": "2e62a0bd",
   "metadata": {},
   "source": [
    " Ans : We need to import the module as import puinputplus as pypi as shorter name when we calling module's function"
   ]
  },
  {
   "cell_type": "markdown",
   "id": "0a9d3d5d",
   "metadata": {},
   "source": [
    "-------------\n",
    "### 3. How do you distinguish between inputInt() and inputFloat()?"
   ]
  },
  {
   "cell_type": "markdown",
   "id": "69d271da",
   "metadata": {},
   "source": [
    "inputInt() : Accepts an integer value, and returns int value \n",
    "    \n",
    "inputFloat() : Accepts integer/floating point value and returns float value \n",
    "    \n",
    "- Both takes additional parameters ‘min’, ‘max’, ‘greaterThan’ and ‘lessThan’ for bounds"
   ]
  },
  {
   "cell_type": "markdown",
   "id": "75d55fca",
   "metadata": {},
   "source": [
    "-----------------\n",
    "### 4. Using PyInputPlus, how do you ensure that the user enters a whole number between 0 and 99?"
   ]
  },
  {
   "cell_type": "markdown",
   "id": "95cdfcdc",
   "metadata": {},
   "source": [
    "In the inputint function we can set the min = 0 and max =99 to ensure user enters number between 0 and 99\n",
    "\n",
    "- pyip.inputInt(min = 0, max =99)"
   ]
  },
  {
   "cell_type": "markdown",
   "id": "d701b9dc",
   "metadata": {},
   "source": [
    "----------------\n",
    "### 5. What is transferred to the keyword arguments allowRegexes and blockRegexes?\n"
   ]
  },
  {
   "cell_type": "markdown",
   "id": "e63ef811",
   "metadata": {},
   "source": [
    "We can use regular expressions to specify whether an input is allowed or not.\n",
    "\n",
    "The allowRegexes and blockRegexes keyword arguments take a list of regular expression strings to determine what the PyInputPlus function will accept or reject as valid input."
   ]
  },
  {
   "cell_type": "markdown",
   "id": "d7f6bee1",
   "metadata": {},
   "source": [
    "---------------\n",
    "### 6. If a blank input is entered three times, what does inputStr(limit=3) do?\n"
   ]
  },
  {
   "cell_type": "markdown",
   "id": "31286011",
   "metadata": {},
   "source": [
    "inputStr(limit=3) will throw RetryLimitException exception."
   ]
  },
  {
   "cell_type": "markdown",
   "id": "3c7550c9",
   "metadata": {},
   "source": [
    "---------------\n",
    "### 7. If blank input is entered three times, what does inputStr(limit=3, default='hello') do?"
   ]
  },
  {
   "cell_type": "markdown",
   "id": "5ea6214f",
   "metadata": {},
   "source": [
    "When you use limit keyword arguments and also pass a default keyword argument, the function returns the default value instead of raising an exception"
   ]
  }
 ],
 "metadata": {
  "kernelspec": {
   "display_name": "Python 3 (ipykernel)",
   "language": "python",
   "name": "python3"
  },
  "language_info": {
   "codemirror_mode": {
    "name": "ipython",
    "version": 3
   },
   "file_extension": ".py",
   "mimetype": "text/x-python",
   "name": "python",
   "nbconvert_exporter": "python",
   "pygments_lexer": "ipython3",
   "version": "3.9.12"
  }
 },
 "nbformat": 4,
 "nbformat_minor": 5
}
