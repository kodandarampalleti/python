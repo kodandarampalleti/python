{
 "cells": [
  {
   "cell_type": "markdown",
   "id": "1ec42943",
   "metadata": {},
   "source": [
    "## 1. What is the name of the feature responsible for generating Regex objects?"
   ]
  },
  {
   "cell_type": "markdown",
   "id": "e527bb38",
   "metadata": {},
   "source": [
    "### Ans : Regex module is feature responsible for generating regex objects by importing re packages "
   ]
  },
  {
   "cell_type": "markdown",
   "id": "9be4d536",
   "metadata": {},
   "source": [
    "## 2. Why do raw strings often appear in Regex objects?"
   ]
  },
  {
   "cell_type": "markdown",
   "id": "34f83233",
   "metadata": {},
   "source": [
    "### Ans : Raw strings are used so that backslashes do not have to be escaped"
   ]
  },
  {
   "cell_type": "markdown",
   "id": "968a3133",
   "metadata": {},
   "source": [
    "## 3. What is the return value of the search() method?"
   ]
  },
  {
   "cell_type": "markdown",
   "id": "aa325c4d",
   "metadata": {},
   "source": [
    "### Anss : The search () method return value is match object "
   ]
  },
  {
   "cell_type": "markdown",
   "id": "5cf114cf",
   "metadata": {},
   "source": [
    "## 4. From a Match item, how do you get the actual strings that match the pattern?"
   ]
  },
  {
   "cell_type": "markdown",
   "id": "0c0931ef",
   "metadata": {},
   "source": [
    "### Ans : In match object to return the actual string used for pattern matches use string() method"
   ]
  },
  {
   "cell_type": "markdown",
   "id": "38f04b96",
   "metadata": {},
   "source": [
    "## 5. In the regex which created from the r&#39;(\\d\\d\\d)-(\\d\\d\\d-\\d\\d\\d\\d)&#39;, what does group zero cover? Group 2? Group 1?"
   ]
  },
  {
   "cell_type": "markdown",
   "id": "c59e7820",
   "metadata": {},
   "source": [
    "### Ans : Group zero is the entrie match string having digits [0-9] ,group 1 covers the first set of parentheses, and group 2 covers the second set of parentheses."
   ]
  },
  {
   "cell_type": "markdown",
   "id": "d0ccc17c",
   "metadata": {},
   "source": [
    "## 6. In standard expression syntax, parentheses and intervals have distinct meanings. How can you tell a regex that you want it to fit real parentheses and periods?"
   ]
  },
  {
   "cell_type": "markdown",
   "id": "6c46ac14",
   "metadata": {},
   "source": [
    "### Ans : You can use the escape character  \\  to tell the regex that you want it to match real parentheses and periods"
   ]
  },
  {
   "cell_type": "markdown",
   "id": "1da466e0",
   "metadata": {},
   "source": [
    "## 7. The findall() method returns a string list or a list of string tuples. What causes it to return one of the two options?"
   ]
  },
  {
   "cell_type": "markdown",
   "id": "d6d16b2b",
   "metadata": {},
   "source": [
    "### Ans : If the regex has no groups, a list of strings is returned. If the regex has groups, a list of tuples of strings is returned"
   ]
  },
  {
   "cell_type": "markdown",
   "id": "1a9324ca",
   "metadata": {},
   "source": [
    "## 8. In standard expressions, what does the | character mean?"
   ]
  },
  {
   "cell_type": "markdown",
   "id": "4b055577",
   "metadata": {},
   "source": [
    "### Ans : The | character signifies matching \"either, or\" between two groups."
   ]
  },
  {
   "cell_type": "markdown",
   "id": "290d1f60",
   "metadata": {},
   "source": [
    "## 9. In regular expressions, what does the character stand for?"
   ]
  },
  {
   "cell_type": "markdown",
   "id": "169c5984",
   "metadata": {},
   "source": [
    "### Ans : The character \".\" stands for any single character."
   ]
  },
  {
   "cell_type": "markdown",
   "id": "32b18bd8",
   "metadata": {},
   "source": [
    "## 10.In regular expressions, what is the difference between the + and * characters?"
   ]
  },
  {
   "cell_type": "markdown",
   "id": "2ca69b10",
   "metadata": {},
   "source": [
    "### Ans : * means zero (or) more occurrances and + means one (or) more occurrances"
   ]
  },
  {
   "cell_type": "markdown",
   "id": "b99a1bb9",
   "metadata": {},
   "source": [
    "## 11. What is the difference between {4} and {4,5} in regular expression?"
   ]
  },
  {
   "cell_type": "markdown",
   "id": "2c6e13e5",
   "metadata": {},
   "source": [
    "### Ans : The {4} matches exactly three instances of the preceding group. The {4,5} matches between four and five instances.\n",
    "\n",
    "\n"
   ]
  },
  {
   "cell_type": "markdown",
   "id": "9698ab7d",
   "metadata": {},
   "source": [
    "## 12. What do you mean by the \\d, \\w, and \\s shorthand character classes signify in regular expressions?"
   ]
  },
  {
   "cell_type": "markdown",
   "id": "e1e56f5f",
   "metadata": {},
   "source": [
    "### Ans : In special sequances characters \\d means if given string having digits ( 0-9 ) , \\w means if given string having word characters ( a -z , A - Z , 0-9 ) and \\s means if given string having spaces."
   ]
  },
  {
   "cell_type": "markdown",
   "id": "7b022f95",
   "metadata": {},
   "source": [
    "## 13. What do means by \\D, \\W, and \\S shorthand character classes signify in regular expressions?"
   ]
  },
  {
   "cell_type": "markdown",
   "id": "bb418966",
   "metadata": {},
   "source": [
    "### Ans : \\D means if given string does not have digits , \\W means if given string does not have word characters and \\S if given string does not spaces"
   ]
  },
  {
   "cell_type": "markdown",
   "id": "c399c4b6",
   "metadata": {},
   "source": [
    "## 14. What is the difference between .*? and .*?"
   ]
  },
  {
   "cell_type": "markdown",
   "id": "7e517820",
   "metadata": {},
   "source": [
    "### Ans : The first matches any number of characters, while the latter matches any number of characters followed by a period."
   ]
  },
  {
   "cell_type": "markdown",
   "id": "c5119880",
   "metadata": {},
   "source": [
    "## 15. What is the syntax for matching both numbers and lowercase letters with a character class?"
   ]
  },
  {
   "cell_type": "markdown",
   "id": "ae3ae3a5",
   "metadata": {},
   "source": [
    "### Ans : Either [0-9a-z] or [a-z0-9]"
   ]
  },
  {
   "cell_type": "markdown",
   "id": "5efa7f39",
   "metadata": {},
   "source": [
    "## 16. What is the procedure for making a normal expression in regax case insensitive?"
   ]
  },
  {
   "cell_type": "markdown",
   "id": "e07b60ba",
   "metadata": {},
   "source": [
    "### Ans : Passing re.I or re.IGNORECASE as the second argument to re.compile() will make the matching case insensitive"
   ]
  },
  {
   "cell_type": "markdown",
   "id": "a278de99",
   "metadata": {},
   "source": [
    "## 17. What does the . character normally match? What does it match if re.DOTALL is passed as 2nd argument in re.compile()?"
   ]
  },
  {
   "cell_type": "markdown",
   "id": "4780dd19",
   "metadata": {},
   "source": [
    "### Ans : The . character normally matches any character except the newline character. If re.DOTALL is passed as the second argument to re.compile(), then the dot will also match newline characters."
   ]
  },
  {
   "cell_type": "markdown",
   "id": "2b86c512",
   "metadata": {},
   "source": [
    "## 18. If numReg = re.compile(r&#39;\\d+&#39;), what will numRegex.sub(&#39;X&#39;, &#39;11 drummers, 10 pipers, five rings, 4 hen&#39;) return?"
   ]
  },
  {
   "cell_type": "markdown",
   "id": "acc2cc83",
   "metadata": {},
   "source": [
    "### Ans : 'X drummers , X pipers, five rings, X hen'"
   ]
  },
  {
   "cell_type": "markdown",
   "id": "89e57dc4",
   "metadata": {},
   "source": [
    "## 19. What does passing re.VERBOSE as the 2nd argument to re.compile() allow to do?"
   ]
  },
  {
   "cell_type": "markdown",
   "id": "0e5f62ae",
   "metadata": {},
   "source": [
    "### Ans : The re.VERBOSE argument allows you to add whitespace and comments to the string passed to re.compile()"
   ]
  },
  {
   "cell_type": "markdown",
   "id": "d27e2685",
   "metadata": {},
   "source": [
    "## 20. How would you write a regex that match a number with comma for every three digits? It must"
   ]
  },
  {
   "cell_type": "markdown",
   "id": "9fea404e",
   "metadata": {},
   "source": [
    "    '42'\n",
    "    '1,234'\n",
    "    '6,368,745'\n",
    "     but not the following:\n",
    "    '12,34,567' (which has only two digits between the commas)\n",
    "    '1234' (which lacks commas)\n"
   ]
  },
  {
   "cell_type": "markdown",
   "id": "28220b5f",
   "metadata": {},
   "source": [
    "### Ans : re.compile(r'^\\d{1,3}(,\\d{3})*') will create this regex, but other regex strings can produce a similar regular expression"
   ]
  },
  {
   "cell_type": "markdown",
   "id": "b1fd3f5b",
   "metadata": {},
   "source": [
    "## 21. How would you write a regex that matches the full name of someone whose last name is Watanabe? You can assume that the first name that comes before it will always be one word that begins with a capital letter. The regex must match the following:"
   ]
  },
  {
   "cell_type": "markdown",
   "id": "a94f7bbb",
   "metadata": {},
   "source": [
    "    'Haruto Watanabe'\n",
    "    'Alice Watanabe'\n",
    "    'RoboCop Watanabe'\n",
    "     but not the following:\n",
    "    'haruto Watanabe' (where the first name is not capitalized)\n",
    "    'Mr. Watanabe' (where the preceding word has a nonletter character)\n",
    "    'Watanabe' (which has no first name)\n",
    "    'Haruto watanabe' (where Watanabe is not capitalized)\n"
   ]
  },
  {
   "cell_type": "markdown",
   "id": "3460cd5a",
   "metadata": {},
   "source": [
    "### Ans : re.compile(r'[A-Z][a-z]*\\sWatanabe')"
   ]
  },
  {
   "cell_type": "markdown",
   "id": "c857374f",
   "metadata": {},
   "source": [
    "## 22. How would you write a regex that matches a sentence where the first word is either Alice, Bob, or Carol; the second word is either eats, pets, or throws; the third word is apples, cats, or baseballs; and the sentence ends with a period? This regex should be case-insensitive. It must match the following:"
   ]
  },
  {
   "cell_type": "markdown",
   "id": "6bfe4d05",
   "metadata": {},
   "source": [
    "    'Alice eats apples.'\n",
    "    'Bob pets cats.'\n",
    "    'Carol throws baseballs.\"\n",
    "    'Alice throws Apples.'\n",
    "    'BOB EATS CATS.'\n",
    "     but not the following:\n",
    "    ' RoboCop eats apples.'\n",
    "    'ALICE THROWS FOOTBALLS.'\n",
    "    'Carol eats 7 cats.'\n"
   ]
  },
  {
   "cell_type": "markdown",
   "id": "c0f04be9",
   "metadata": {},
   "source": [
    "### Ans :                                                                                                                            re.compile(r'(Alice|Bob|Carol)\\s(eats|pets|throws)\\s(apples|cats|baseballs)\\.', re.IGNORECASE)"
   ]
  },
  {
   "cell_type": "code",
   "execution_count": null,
   "id": "de6f24f2",
   "metadata": {},
   "outputs": [],
   "source": []
  }
 ],
 "metadata": {
  "kernelspec": {
   "display_name": "Python 3 (ipykernel)",
   "language": "python",
   "name": "python3"
  },
  "language_info": {
   "codemirror_mode": {
    "name": "ipython",
    "version": 3
   },
   "file_extension": ".py",
   "mimetype": "text/x-python",
   "name": "python",
   "nbconvert_exporter": "python",
   "pygments_lexer": "ipython3",
   "version": "3.9.12"
  }
 },
 "nbformat": 4,
 "nbformat_minor": 5
}
