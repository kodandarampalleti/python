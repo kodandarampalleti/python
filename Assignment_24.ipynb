{
 "cells": [
  {
   "cell_type": "markdown",
   "id": "875c6d27",
   "metadata": {},
   "source": [
    "### 1. What is the relationship between def statements and lambda expressions ?"
   ]
  },
  {
   "cell_type": "markdown",
   "id": "f1b86617",
   "metadata": {},
   "source": [
    "Def statements are used to define a function, while lambda expressions are used to create an anonymous function. Lambda expressions are essentially a shorthand way of writing a def statement."
   ]
  },
  {
   "cell_type": "markdown",
   "id": "611df3b9",
   "metadata": {},
   "source": [
    "--------------------------------------------\n",
    "### 2. What is the benefit of lambda?"
   ]
  },
  {
   "cell_type": "markdown",
   "id": "7b3d7052",
   "metadata": {},
   "source": [
    "The primary benefit of using lambda is that it allows for the creation of functions within a single line of code, which makes it more efficient and effective to write code. Additionally, lambda functions can be used to quickly and easily define operations that would otherwise require more extensive coding. This makes code more readable and easier to debug. Finally, lambda functions can be used to process data in parallel and to create custom functions for data processing."
   ]
  },
  {
   "cell_type": "markdown",
   "id": "3db057d2",
   "metadata": {},
   "source": [
    "--------------------------------------------------\n",
    "### 3. Compare and contrast map, filter, and reduce."
   ]
  },
  {
   "cell_type": "markdown",
   "id": "76e78c2b",
   "metadata": {},
   "source": [
    "map applies as a transformation to an element. The map() function iterates through all items in the given iterable and executes the function we passed as an argument on each of them. Syntax : map(function, iterable(s))\n",
    "\n",
    "filter accumulates only elements matching a condition. filter() forms a new list that contains only elements that satisfy a certain condition, i.e. the function we passed returns True Syntax : filter(function, iterable(s))\n",
    "\n",
    "reduce accumulates all elements to a single value, by using immutable values reduce() works by calling the function we passed for the first two items in the sequence. The result returned by the function is used in another call to function alongside with the next (third in this case), element Syntax : reduce(function, sequence[, initial])"
   ]
  },
  {
   "cell_type": "markdown",
   "id": "ac24766b",
   "metadata": {},
   "source": [
    "--------------------------------------------------------\n",
    "### 4. What are function annotations, and how are they used?"
   ]
  },
  {
   "cell_type": "markdown",
   "id": "2aa86a0f",
   "metadata": {},
   "source": [
    "Function annotation is the standard way to access the metadata with the arguments and the return value of the function. These are optional Python expressions that get allied to different parts of the function. They get evaluated only during the compile-time and have no significance during the run-time of the code. They do not have any significance or meaning associated with them until accessed by some third-party libraries. They are used to type check the functions by declaring the type of the parameters and the return value for the functions. The string-based annotations help us to improve the help messages.\n",
    "\n",
    "Syntax : def func(a: 'int') -> 'int': pass\n",
    "\n",
    "Annotations for simple parameters: def func(x: 'float'=10.8, y: 'argument2'): In the above code the argument, ‘x’ of the function func, has been annotated to float data type and the argument ‘y’ has a string-based annotation. The argument can also be assigned to a default value using a ‘=’ symbol followed by the default value. These default values are optional to the code.\n",
    "\n",
    "Annotations for return values: def func(a: expression) -> 'int': The annotations for the return value is written after the ‘->’ symbol."
   ]
  },
  {
   "cell_type": "markdown",
   "id": "a826b4d7",
   "metadata": {},
   "source": [
    "--------------------------------------------------------\n",
    "### 5. What are recursive functions, and how are they used?"
   ]
  },
  {
   "cell_type": "markdown",
   "id": "bf0eac6a",
   "metadata": {},
   "source": [
    "A recursive function is a function that calls itself during its execution. This means that the function will continue to call itself and repeat its behavior until some condition is met to return a result"
   ]
  },
  {
   "cell_type": "code",
   "execution_count": 1,
   "id": "adc66c80",
   "metadata": {},
   "outputs": [
    {
     "data": {
      "text/plain": [
       "6"
      ]
     },
     "execution_count": 1,
     "metadata": {},
     "output_type": "execute_result"
    }
   ],
   "source": [
    "# example\n",
    "def fact(x):\n",
    "    if x == 1 :\n",
    "        return 1\n",
    "    else :\n",
    "        return x * fact(x-1) # recursion\n",
    "\n",
    "fact(3)"
   ]
  },
  {
   "cell_type": "markdown",
   "id": "2b849dec",
   "metadata": {},
   "source": [
    "------------------------------------------------------\n",
    "### 6. What are some general design guidelines for coding functions?"
   ]
  },
  {
   "cell_type": "markdown",
   "id": "3caa1559",
   "metadata": {},
   "source": [
    "* Use 4-space indentation and no tabs.\n",
    "* Use docstrings\n",
    "* Wrap linethat they don’t exceed 79 characters\n",
    "* Use of regular and updated comments are valuable to both the coders and users\n",
    "* Use of trailing commas : in case of tuple -> ('good',)\n",
    "* Use Python’s default UTF-8 or ASCII encodings and not any fancy encodings\n",
    "* Naming Conventions 8.Characters that should not be used for identifiers: ‘l’ (lowercase letter el), ‘O’ (uppercase letter oh),   ‘I’ (uppercase letter eye) as single character variable names as these are similar to the numerals one and zero.\n",
    "* Don’t use non-ASCII characters in identifiers\n",
    "* Name your classes and functions consistently\n",
    "* While naming of function of methods always use self for the first argumen"
   ]
  },
  {
   "cell_type": "markdown",
   "id": "2f78f2c4",
   "metadata": {},
   "source": [
    "--------------------------------------------\n",
    "### 7. Name three or more ways that functions can communicate results to a caller."
   ]
  },
  {
   "cell_type": "markdown",
   "id": "e6ed789e",
   "metadata": {},
   "source": [
    "* Function can return single value\n",
    "* Can return multiple values, tuple\n",
    "* can return list,dictionary\n",
    "* can return function object\n",
    "* can return class object (ex: SQL Connection object)\n",
    "* can update an output variable\n",
    "* can update a global variable\n",
    "* can update/create a file"
   ]
  }
 ],
 "metadata": {
  "kernelspec": {
   "display_name": "Python 3 (ipykernel)",
   "language": "python",
   "name": "python3"
  },
  "language_info": {
   "codemirror_mode": {
    "name": "ipython",
    "version": 3
   },
   "file_extension": ".py",
   "mimetype": "text/x-python",
   "name": "python",
   "nbconvert_exporter": "python",
   "pygments_lexer": "ipython3",
   "version": "3.9.13"
  }
 },
 "nbformat": 4,
 "nbformat_minor": 5
}
