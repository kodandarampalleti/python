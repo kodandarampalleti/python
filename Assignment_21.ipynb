{
 "cells": [
  {
   "cell_type": "markdown",
   "id": "3178073c",
   "metadata": {},
   "source": [
    "### 1. Add the current date to the text file today.txt as a string."
   ]
  },
  {
   "cell_type": "code",
   "execution_count": 6,
   "id": "11c122e0",
   "metadata": {},
   "outputs": [
    {
     "name": "stdout",
     "output_type": "stream",
     "text": [
      "2023-02-17\n"
     ]
    }
   ],
   "source": [
    "from datetime import date\n",
    "\n",
    "with open(\"today.txt\" , \"w\") as today:\n",
    "    today.write(date.today().isoformat())\n",
    "print(date.today().isoformat())"
   ]
  },
  {
   "cell_type": "markdown",
   "id": "897ca950",
   "metadata": {},
   "source": [
    "---------------------------------------------\n",
    "### 2. Read the text file today.txt into the string today_string"
   ]
  },
  {
   "cell_type": "code",
   "execution_count": 11,
   "id": "b5c2828c",
   "metadata": {},
   "outputs": [],
   "source": [
    "today_string = \" \"\n",
    "with open(\"today.txt\" , \"r\") as txt :\n",
    "    today_string = txt.read()"
   ]
  },
  {
   "cell_type": "code",
   "execution_count": 12,
   "id": "d6760475",
   "metadata": {},
   "outputs": [
    {
     "data": {
      "text/plain": [
       "'2023-02-17'"
      ]
     },
     "execution_count": 12,
     "metadata": {},
     "output_type": "execute_result"
    }
   ],
   "source": [
    "today_string "
   ]
  },
  {
   "cell_type": "markdown",
   "id": "6da5dc4d",
   "metadata": {},
   "source": [
    "--------------------------------------------\n",
    "### 3. Parse the date from today_string."
   ]
  },
  {
   "cell_type": "code",
   "execution_count": 14,
   "id": "e2c0e83a",
   "metadata": {},
   "outputs": [
    {
     "name": "stdout",
     "output_type": "stream",
     "text": [
      "2023-02-17 00:00:00\n"
     ]
    }
   ],
   "source": [
    "from datetime import datetime\n",
    "print(datetime.strptime(today_string, \"%Y-%m-%d\"))"
   ]
  },
  {
   "cell_type": "markdown",
   "id": "2f0d6bcf",
   "metadata": {},
   "source": [
    "------------------------------------------------\n",
    "### 4. List the files in your current directory"
   ]
  },
  {
   "cell_type": "code",
   "execution_count": 15,
   "id": "2943ea7d",
   "metadata": {},
   "outputs": [
    {
     "data": {
      "text/plain": [
       "['.ipynb_checkpoints',\n",
       " 'Assignment 2.ipynb',\n",
       " 'Assignment 3.ipynb',\n",
       " 'Assignment 4 .ipynb',\n",
       " 'Assignment 5.ipynb',\n",
       " 'Assignment 6.ipynb',\n",
       " 'Assignment 7.ipynb',\n",
       " 'Assignment 8.ipynb',\n",
       " 'Assignment-1.ipynb',\n",
       " 'Assignment_10.ipynb',\n",
       " 'Assignment_11.ipynb',\n",
       " 'Assignment_12.ipynb',\n",
       " 'Assignment_13.ipynb',\n",
       " 'Assignment_14.ipynb',\n",
       " 'Assignment_15.ipynb',\n",
       " 'Assignment_16.ipynb',\n",
       " 'Assignment_17.ipynb',\n",
       " 'Assignment_18.ipynb',\n",
       " 'Assignment_19.ipynb',\n",
       " 'Assignment_20.ipynb',\n",
       " 'Assignment_21.ipynb',\n",
       " 'Assignment_9.ipynb',\n",
       " 'books.csv',\n",
       " 'books.db',\n",
       " 'test.txt',\n",
       " 'today.txt',\n",
       " 'zoo.py',\n",
       " '__pycache__']"
      ]
     },
     "execution_count": 15,
     "metadata": {},
     "output_type": "execute_result"
    }
   ],
   "source": [
    "import os\n",
    "os.listdir()"
   ]
  },
  {
   "cell_type": "markdown",
   "id": "a7885833",
   "metadata": {},
   "source": [
    "--------------------------------------------\n",
    "### 5. Create a list of all of the files in your parent directory (minimum five files should be available)."
   ]
  },
  {
   "cell_type": "code",
   "execution_count": 18,
   "id": "a6c3e185",
   "metadata": {},
   "outputs": [
    {
     "name": "stdout",
     "output_type": "stream",
     "text": [
      "['.ipynb_checkpoints', 'ArmouryCrateInstallTool', 'B9ECED6F.ASUSPCAssistant_qmba6cd70vzyy!App', 'deployment steps.pdf', 'desktop.ini', 'python-main', 'ReviewFlask', 'TX81119611022023.pdf']\n"
     ]
    }
   ],
   "source": [
    "import os \n",
    "l = os.listdir(\"..\")\n",
    "print(l)"
   ]
  },
  {
   "cell_type": "markdown",
   "id": "774e6874",
   "metadata": {},
   "source": [
    "---------------------------------------------------\n",
    "### 6. Use multiprocessing to create three separate processes. Make each one wait a random number of seconds between one and five, print the current time, and then exit."
   ]
  },
  {
   "cell_type": "code",
   "execution_count": 25,
   "id": "2c2612b8",
   "metadata": {},
   "outputs": [
    {
     "name": "stdout",
     "output_type": "stream",
     "text": [
      "starting processes\n",
      "Process 0 will sleep for 5\n",
      "starting processes\n",
      "Process 1 will sleep for 6\n",
      "starting processes\n",
      "Process 2 will sleep for 8\n"
     ]
    }
   ],
   "source": [
    "import multiprocessing\n",
    "from datetime import datetime \n",
    "from time import sleep \n",
    "import random\n",
    "\n",
    "def now_sleep(seconds): \n",
    "    print('wait', seconds, 'seconds, time is', datetime.utcnow())\n",
    "    sleep(seconds) \n",
    "    print(\"Finished Process!\")\n",
    "\n",
    "if __name__ == '__main__':\n",
    "    for n in range(3): \n",
    "        print(\"starting processes\")\n",
    "        seconds = random.randint(1, 10) \n",
    "        print(f\"Process {n} will sleep for {seconds}\")\n",
    "        proc = multiprocessing.Process(target=now_sleep, args=(seconds,)) \n",
    "        proc.start()"
   ]
  },
  {
   "cell_type": "markdown",
   "id": "3dab4f65",
   "metadata": {},
   "source": [
    "--------------------------------------------------\n",
    "### 7. Create a date object of your day of birth."
   ]
  },
  {
   "cell_type": "code",
   "execution_count": 27,
   "id": "f20e6d9a",
   "metadata": {},
   "outputs": [
    {
     "name": "stdout",
     "output_type": "stream",
     "text": [
      "1999-08-27\n"
     ]
    }
   ],
   "source": [
    "my_birthday = date(1999 , 8 , 27)\n",
    "print(my_birthday)"
   ]
  },
  {
   "cell_type": "markdown",
   "id": "2f87ac37",
   "metadata": {},
   "source": [
    "-----------------------------------------------------\n",
    "### 8. What day of the week was your day of birth?"
   ]
  },
  {
   "cell_type": "code",
   "execution_count": 28,
   "id": "2eaa3318",
   "metadata": {},
   "outputs": [
    {
     "name": "stdout",
     "output_type": "stream",
     "text": [
      "My birthday was on 5th day of the week\n"
     ]
    }
   ],
   "source": [
    "print(f\"My birthday was on {my_birthday.isoweekday()}th day of the week\")"
   ]
  },
  {
   "cell_type": "markdown",
   "id": "8cb130f7",
   "metadata": {},
   "source": [
    "-----------------------------------------------------------------\n",
    "### 9. When will you be (or when were you) 10,000 days old?"
   ]
  },
  {
   "cell_type": "code",
   "execution_count": 36,
   "id": "bd138785",
   "metadata": {},
   "outputs": [
    {
     "name": "stdout",
     "output_type": "stream",
     "text": [
      "2027-01-12\n"
     ]
    }
   ],
   "source": [
    "from datetime import timedelta\n",
    "\n",
    "thousand_days = my_birthday + timedelta(days=10000)\n",
    "print(thousand_days)"
   ]
  }
 ],
 "metadata": {
  "kernelspec": {
   "display_name": "Python 3 (ipykernel)",
   "language": "python",
   "name": "python3"
  },
  "language_info": {
   "codemirror_mode": {
    "name": "ipython",
    "version": 3
   },
   "file_extension": ".py",
   "mimetype": "text/x-python",
   "name": "python",
   "nbconvert_exporter": "python",
   "pygments_lexer": "ipython3",
   "version": "3.9.13"
  }
 },
 "nbformat": 4,
 "nbformat_minor": 5
}
