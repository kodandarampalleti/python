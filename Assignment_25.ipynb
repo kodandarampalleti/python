{
 "cells": [
  {
   "cell_type": "markdown",
   "id": "9bf9ba65",
   "metadata": {},
   "source": [
    "### 1) . What is the difference between enclosing a list comprehension in square brackets and parentheses?"
   ]
  },
  {
   "cell_type": "markdown",
   "id": "9c0b5959",
   "metadata": {},
   "source": [
    "The difference between enclosing a list comprehension in square brackets and parentheses is that square brackets create a list, while parentheses create a generator object. Square brackets will create a list object in memory, whereas parentheses will create a generator object that can be iterated over."
   ]
  },
  {
   "cell_type": "markdown",
   "id": "133e066e",
   "metadata": {},
   "source": [
    "---------------------------------------------------------------------\n",
    "### 2) What is the relationship between generators and iterators?"
   ]
  },
  {
   "cell_type": "markdown",
   "id": "a3aa5115",
   "metadata": {},
   "source": [
    "Generators and iterators are closely related. A generator is a special type of iterator that returns a value each time it is called. It uses the yield keyword to return a value and can be used in a loop or as part of a comprehension. An iterator is an object that can be used to loop through a collection of items, such as a list or dictionary. It can be used to access the values one by one.\n",
    "\n",
    "Here, the yield function returns the data without affecting or exiting the function. It will return a sequence of data in an iterable format where we need to iterate over the sequence to use the data as they won’t store the entire sequence in the memory By using next() function we can iterate the output of generator function"
   ]
  },
  {
   "cell_type": "markdown",
   "id": "c33c3307",
   "metadata": {},
   "source": [
    "----------------------------------------------------------\n",
    "### 3) What are the signs that a function is a generator function?"
   ]
  },
  {
   "cell_type": "markdown",
   "id": "f985d3e1",
   "metadata": {},
   "source": [
    "Signs that a function is a generator function include: \n",
    "\n",
    "1. The function contains the keyword ‘yield’. \n",
    "2. The function contains a loop. \n",
    "3. The function returns an iterator object. \n",
    "4. The function can be used with the ‘next’ function. \n",
    "5. The function can be used in a ‘for’ loop."
   ]
  },
  {
   "cell_type": "markdown",
   "id": "4a8166bb",
   "metadata": {},
   "source": [
    "-------------------------------------------------------------\n",
    "### 4) What is the purpose of a yield statement?"
   ]
  },
  {
   "cell_type": "markdown",
   "id": "38202166",
   "metadata": {},
   "source": [
    "A yield statement is used to pause a function and return a value to the caller without destroying the state of the function. It allows the function to resume execution from the same point the next time it is called. This is commonly used in Python to implement generators, which are iterators that allow you to iterate over large sequences of data without storing the entire sequence in memory."
   ]
  },
  {
   "cell_type": "markdown",
   "id": "bf68f7b1",
   "metadata": {},
   "source": [
    "-----------------------------------------------------\n",
    "### 5) What is the relationship between map calls and list comprehensions? Make a comparison and contrast between the two."
   ]
  },
  {
   "cell_type": "markdown",
   "id": "7a554344",
   "metadata": {},
   "source": [
    "Map calls and list comprehensions are both ways of iterating through collections of data. Map calls take a function and apply it to every element in an iterable. List comprehensions take a sequence of values and generate a new sequence of values by applying a filter or transformation to each element in the original sequence.\n",
    "\n",
    "Map calls are more general purpose, as they can be used with any function, but they are also less efficient than list comprehensions. List comprehensions are more concise and are more efficient, as they are optimized for the task of creating a new sequence of values from an existing one."
   ]
  }
 ],
 "metadata": {
  "kernelspec": {
   "display_name": "Python 3 (ipykernel)",
   "language": "python",
   "name": "python3"
  },
  "language_info": {
   "codemirror_mode": {
    "name": "ipython",
    "version": 3
   },
   "file_extension": ".py",
   "mimetype": "text/x-python",
   "name": "python",
   "nbconvert_exporter": "python",
   "pygments_lexer": "ipython3",
   "version": "3.9.13"
  }
 },
 "nbformat": 4,
 "nbformat_minor": 5
}
