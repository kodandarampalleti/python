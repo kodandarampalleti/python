{
 "cells": [
  {
   "cell_type": "markdown",
   "id": "80e54532",
   "metadata": {},
   "source": [
    "### 1. What is the result of the code, and explain?\n",
    "\n",
    "&gt;&gt;&gt; X = &#39;iNeuron&#39;\n",
    "\n",
    "&gt;&gt;&gt; def func():\n",
    "\n",
    "print(X)\n",
    "\n",
    "&gt;&gt;&gt; func()"
   ]
  },
  {
   "cell_type": "markdown",
   "id": "a05c40f6",
   "metadata": {},
   "source": [
    "The above program will print iNeuron to the console as there is no local variable X in the function and the global variable X will be called"
   ]
  },
  {
   "cell_type": "markdown",
   "id": "eac80181",
   "metadata": {},
   "source": [
    "-----------------------------------------------\n",
    "### 2. What is the result of the code, and explain?\n",
    "\n",
    "&gt;&gt;&gt; X = &#39;iNeuron&#39;\n",
    "\n",
    "&gt;&gt;&gt; def func():\n",
    "\n",
    "X = &#39;NI!&#39;\n",
    "\n",
    "&gt;&gt;&gt; func()\n",
    "\n",
    "&gt;&gt;&gt; print(X)"
   ]
  },
  {
   "cell_type": "markdown",
   "id": "7de289f4",
   "metadata": {},
   "source": [
    "The above program will print iNeuron to the console\n",
    "\n",
    "As the statement X='NI!' will be updating the local value X, but the global variable X will be unchanged"
   ]
  },
  {
   "cell_type": "markdown",
   "id": "c582ad96",
   "metadata": {},
   "source": [
    "--------------------------------------------------------\n",
    "### 3. What does this code print, and why?\n",
    "\n",
    "&gt;&gt;&gt; X = &#39;iNeuron&#39;\n",
    "\n",
    "&gt;&gt;&gt; def func():\n",
    "\n",
    "X = &#39;NI&#39;\n",
    "\n",
    "print(X)\n",
    "\n",
    "&gt;&gt;&gt; func()\n",
    "\n",
    "&gt;&gt;&gt; print(X)"
   ]
  },
  {
   "cell_type": "markdown",
   "id": "26a1a01d",
   "metadata": {},
   "source": [
    "The above program will print NI followed by iNeuron to the console as the statement X='NI' will be updating the local value X and then printing it to the console, but the global variable X will be unchanged, therefore the next print statement will print the global variable X value which is iNeuron"
   ]
  },
  {
   "cell_type": "markdown",
   "id": "295d5154",
   "metadata": {},
   "source": [
    "--------------------------------------------------------\n",
    "### 4. What output does this code produce? Why?\n",
    "\n",
    "&gt;&gt;&gt; X = &#39;iNeuron&#39;\n",
    "\n",
    "&gt;&gt;&gt; def func():\n",
    "\n",
    "global X\n",
    "\n",
    "X = &#39;NI&#39;\n",
    "\n",
    "&gt;&gt;&gt; func()\n",
    "\n",
    "&gt;&gt;&gt; print(X)"
   ]
  },
  {
   "cell_type": "markdown",
   "id": "3eb64aaf",
   "metadata": {},
   "source": [
    "The above program will print NI to the console. The statement global X will ensure the func function uses the global variable instead of a local variable with name X. Hence the assignment statement updates the global varaible X value to NI"
   ]
  },
  {
   "cell_type": "markdown",
   "id": "8563d2d4",
   "metadata": {},
   "source": [
    "-------------------------------------------------\n",
    "### 5. What about this code—what’s the output, and why?\n",
    "\n",
    "&gt;&gt;&gt; X = &#39;iNeuron&#39;\n",
    "\n",
    "&gt;&gt;&gt; def func():\n",
    "\n",
    "X = &#39;NI&#39;\n",
    "\n",
    "def nested():\n",
    "\n",
    "print(X)\n",
    "\n",
    "nested()\n",
    "\n",
    "&gt;&gt;&gt; func()\n",
    "\n",
    "&gt;&gt;&gt; X"
   ]
  },
  {
   "cell_type": "markdown",
   "id": "d849425f",
   "metadata": {},
   "source": [
    "The above code will print NI followed by iNeuron, this is because the global varaible X is unchanged and the method nested has access to the X declared in its enclosing function func"
   ]
  },
  {
   "cell_type": "markdown",
   "id": "a847fe8e",
   "metadata": {},
   "source": [
    "--------------------------------------------------\n",
    "### 6. How about this code: what is its output in Python 3, and explain?\n",
    "\n",
    "&gt;&gt;&gt; def func():\n",
    "\n",
    "X = &#39;NI&#39;\n",
    "\n",
    "def nested():\n",
    "\n",
    "nonlocal X\n",
    "\n",
    "X = &#39;Spam&#39;\n",
    "\n",
    "nested()\n",
    "\n",
    "print(X)\n",
    "\n",
    "&gt;&gt;&gt; func()"
   ]
  },
  {
   "cell_type": "markdown",
   "id": "9a022add",
   "metadata": {},
   "source": [
    "The above code will print Spam to the console, as they keyword nonlocal helps the function nested() to access the variable X from the function func"
   ]
  }
 ],
 "metadata": {
  "kernelspec": {
   "display_name": "Python 3 (ipykernel)",
   "language": "python",
   "name": "python3"
  },
  "language_info": {
   "codemirror_mode": {
    "name": "ipython",
    "version": 3
   },
   "file_extension": ".py",
   "mimetype": "text/x-python",
   "name": "python",
   "nbconvert_exporter": "python",
   "pygments_lexer": "ipython3",
   "version": "3.9.13"
  }
 },
 "nbformat": 4,
 "nbformat_minor": 5
}
