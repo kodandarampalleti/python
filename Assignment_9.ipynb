{
 "cells": [
  {
   "cell_type": "markdown",
   "id": "da0d1e9f",
   "metadata": {},
   "source": [
    "### 1. To what does a relative path refer?"
   ]
  },
  {
   "cell_type": "markdown",
   "id": "b66ae65a",
   "metadata": {},
   "source": [
    "A relative path is a way to specify the location of a directory relative to another directory."
   ]
  },
  {
   "cell_type": "markdown",
   "id": "b3f0423c",
   "metadata": {},
   "source": [
    "--------------------------------\n",
    "### 2. What does an absolute path start with your operating system?"
   ]
  },
  {
   "cell_type": "markdown",
   "id": "cc05dd71",
   "metadata": {},
   "source": [
    "An absolute file path describes how to access a given file or directory, starting from the root of the file system"
   ]
  },
  {
   "cell_type": "markdown",
   "id": "44c2fee1",
   "metadata": {},
   "source": [
    "---------------------------------------\n",
    "### 3. What do the functions os.getcwd() and os.chdir() do?"
   ]
  },
  {
   "cell_type": "markdown",
   "id": "b2856056",
   "metadata": {},
   "source": [
    "os.getcwd() - Get the present working directory path\n",
    "os.chdir() - Change the present working directory path"
   ]
  },
  {
   "cell_type": "markdown",
   "id": "adeef74a",
   "metadata": {},
   "source": [
    "--------------------------------------\n",
    "### 4. What are the . and .. folders?"
   ]
  },
  {
   "cell_type": "markdown",
   "id": "8d1d7ff6",
   "metadata": {},
   "source": [
    "A directory is a collection of files and subdirectories. A directory inside a directory is known as a subdirectory"
   ]
  },
  {
   "cell_type": "markdown",
   "id": "430d9729",
   "metadata": {},
   "source": [
    "-------------------------------------------\n",
    "### 5. In C:\\bacon\\eggs\\spam.txt, which part is the dir name, and which part is the base name?"
   ]
  },
  {
   "cell_type": "markdown",
   "id": "55b624f2",
   "metadata": {},
   "source": [
    "C:\\bacon\\eggs\\ - dir name\n",
    "\n",
    "spam.txt - base name"
   ]
  },
  {
   "cell_type": "markdown",
   "id": "800d0db3",
   "metadata": {},
   "source": [
    "-------------------------------------------\n",
    "### 6. What are the three “mode” arguments that can be passed to the open() function?"
   ]
  },
  {
   "cell_type": "markdown",
   "id": "c0798a86",
   "metadata": {},
   "source": [
    "The three “mode” arguments that can be passed to the open() function are “r”, “w”, and “a”. "
   ]
  },
  {
   "cell_type": "markdown",
   "id": "935897aa",
   "metadata": {},
   "source": [
    "------------------------------------------------\n",
    "### 7. What happens if an existing file is opened in write mode?"
   ]
  },
  {
   "cell_type": "markdown",
   "id": "791eedda",
   "metadata": {},
   "source": [
    "If an existing file is opened in write mode in Python, the contents of the file will be erased and the file will be overwritten with the new data."
   ]
  },
  {
   "cell_type": "markdown",
   "id": "b3029a9b",
   "metadata": {},
   "source": [
    "----------------------------------------------------\n",
    "### 8. How do you tell the difference between read() and readlines()?"
   ]
  },
  {
   "cell_type": "markdown",
   "id": "1492d520",
   "metadata": {},
   "source": [
    "read() - read means its read complete data at a time\n",
    "\n",
    "readlines - means its read the data line by line "
   ]
  },
  {
   "cell_type": "markdown",
   "id": "817ccfa8",
   "metadata": {},
   "source": [
    "-------------------------------------------------\n",
    "### 9. What data structure does a shelf value resemble?"
   ]
  },
  {
   "cell_type": "markdown",
   "id": "20b52fed",
   "metadata": {},
   "source": [
    "A shelf value in python resembles a dictionary."
   ]
  }
 ],
 "metadata": {
  "kernelspec": {
   "display_name": "Python 3 (ipykernel)",
   "language": "python",
   "name": "python3"
  },
  "language_info": {
   "codemirror_mode": {
    "name": "ipython",
    "version": 3
   },
   "file_extension": ".py",
   "mimetype": "text/x-python",
   "name": "python",
   "nbconvert_exporter": "python",
   "pygments_lexer": "ipython3",
   "version": "3.9.13"
  }
 },
 "nbformat": 4,
 "nbformat_minor": 5
}
