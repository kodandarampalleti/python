{
 "cells": [
  {
   "cell_type": "markdown",
   "id": "fac42350",
   "metadata": {},
   "source": [
    "### 1.How many seconds are in an hour? Use the interactive interpreter as a calculator and multiply the number of seconds in a minute (60) by the number of minutes in an hour (also 60)."
   ]
  },
  {
   "cell_type": "code",
   "execution_count": 1,
   "id": "466daf77",
   "metadata": {},
   "outputs": [
    {
     "data": {
      "text/plain": [
       "3600"
      ]
     },
     "execution_count": 1,
     "metadata": {},
     "output_type": "execute_result"
    }
   ],
   "source": [
    "60*60 # which is the number of seconds in an hour."
   ]
  },
  {
   "cell_type": "markdown",
   "id": "6ca1228d",
   "metadata": {},
   "source": [
    "----------------------------------------------------------\n",
    "### 2. Assign the result from the previous task (seconds in an hour) to a variable called seconds_per_hour."
   ]
  },
  {
   "cell_type": "code",
   "execution_count": 2,
   "id": "f88fec4a",
   "metadata": {},
   "outputs": [],
   "source": [
    "seconds_per_hour = 60 * 60\n"
   ]
  },
  {
   "cell_type": "markdown",
   "id": "49b66285",
   "metadata": {},
   "source": [
    "This will assign the value 3600 to the variable seconds_per_hour."
   ]
  },
  {
   "cell_type": "markdown",
   "id": "6c7c97f4",
   "metadata": {},
   "source": [
    "-----------------------------------------------------\n",
    "### 3. How many seconds do you think there are in a day? Make use of the variables seconds per hour and minutes per hour."
   ]
  },
  {
   "cell_type": "code",
   "execution_count": 5,
   "id": "07e05e74",
   "metadata": {},
   "outputs": [],
   "source": [
    "seconds_per_minutes = 60 \n",
    "seconds_per_hour = 60 * seconds_per_minutes"
   ]
  },
  {
   "cell_type": "markdown",
   "id": "8d6f1e2b",
   "metadata": {},
   "source": [
    "So there are 86,400 seconds in a day."
   ]
  },
  {
   "cell_type": "markdown",
   "id": "3299417f",
   "metadata": {},
   "source": [
    "-------------------------------------------------------------------------\n",
    "### 4. Calculate seconds per day again, but this time save the result in a variable called seconds_per_day"
   ]
  },
  {
   "cell_type": "code",
   "execution_count": 4,
   "id": "c42e865b",
   "metadata": {},
   "outputs": [
    {
     "name": "stdout",
     "output_type": "stream",
     "text": [
      "86400\n"
     ]
    }
   ],
   "source": [
    "seconds_per_day = 24 * seconds_per_hour\n",
    "seconds_per_day = 24 * 3600\n",
    "print(seconds_per_day)"
   ]
  },
  {
   "cell_type": "markdown",
   "id": "200ca2b8",
   "metadata": {},
   "source": [
    "--------------------------------------------\n",
    "### 5. Divide seconds_per_day by seconds_per_hour. Use floating-point (/) division."
   ]
  },
  {
   "cell_type": "code",
   "execution_count": 6,
   "id": "161fb32c",
   "metadata": {},
   "outputs": [
    {
     "name": "stdout",
     "output_type": "stream",
     "text": [
      "24.0\n"
     ]
    }
   ],
   "source": [
    "division = seconds_per_day/seconds_per_hour\n",
    "print(division)"
   ]
  },
  {
   "cell_type": "markdown",
   "id": "3b455fc9",
   "metadata": {},
   "source": [
    "------------------------------------------------------------\n",
    "### 6. Divide seconds_per_day by seconds_per_hour, using integer (//) division. Did this number agree with the floating-point value from the previous question, aside from the final .0?"
   ]
  },
  {
   "cell_type": "code",
   "execution_count": 7,
   "id": "6db24160",
   "metadata": {},
   "outputs": [
    {
     "name": "stdout",
     "output_type": "stream",
     "text": [
      "24\n"
     ]
    }
   ],
   "source": [
    "division = seconds_per_day//seconds_per_hour\n",
    "print(division)"
   ]
  },
  {
   "cell_type": "markdown",
   "id": "3f1297f4",
   "metadata": {},
   "source": [
    "The floating-point division resulted in a float value of 24.0, while the integer division resulted in an integer value of 24"
   ]
  },
  {
   "cell_type": "markdown",
   "id": "c95c1ac5",
   "metadata": {},
   "source": [
    "-------------------------------------------------------------\n",
    "### 7. Write a generator, genPrimes, that returns the sequence of prime numbers on successive calls to its next() method: 2, 3, 5, 7, 11, ..."
   ]
  },
  {
   "cell_type": "code",
   "execution_count": 8,
   "id": "32f93479",
   "metadata": {},
   "outputs": [],
   "source": [
    "def genPrimes():\n",
    "    \"\"\"\n",
    "    Generator that yields prime numbers on successive calls to next().\n",
    "    \"\"\"\n",
    "    primes = [2] \n",
    "    yield 2\n",
    "   \n",
    "    i = 3\n",
    "    while True:\n",
    "       \n",
    "        is_prime = True\n",
    "        for p in primes:\n",
    "            if i % p == 0:\n",
    "                is_prime = False\n",
    "                break\n",
    "        if is_prime:\n",
    "            primes.append(i)\n",
    "            yield i\n",
    "        \n",
    "        i += 2 \n"
   ]
  },
  {
   "cell_type": "code",
   "execution_count": 9,
   "id": "d4b3f4cc",
   "metadata": {},
   "outputs": [
    {
     "name": "stdout",
     "output_type": "stream",
     "text": [
      "2\n",
      "3\n",
      "5\n",
      "7\n",
      "11\n"
     ]
    }
   ],
   "source": [
    "primes = genPrimes()\n",
    "\n",
    "print(next(primes))  \n",
    "print(next(primes))  \n",
    "print(next(primes))  \n",
    "print(next(primes))  \n",
    "print(next(primes))  \n"
   ]
  }
 ],
 "metadata": {
  "kernelspec": {
   "display_name": "Python 3 (ipykernel)",
   "language": "python",
   "name": "python3"
  },
  "language_info": {
   "codemirror_mode": {
    "name": "ipython",
    "version": 3
   },
   "file_extension": ".py",
   "mimetype": "text/x-python",
   "name": "python",
   "nbconvert_exporter": "python",
   "pygments_lexer": "ipython3",
   "version": "3.9.13"
  }
 },
 "nbformat": 4,
 "nbformat_minor": 5
}
