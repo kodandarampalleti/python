{
 "cells": [
  {
   "cell_type": "markdown",
   "id": "fd7755ae",
   "metadata": {},
   "source": [
    "## 1. What does an empty dictionary&#39;s code look like?"
   ]
  },
  {
   "cell_type": "code",
   "execution_count": 6,
   "id": "90965bcb",
   "metadata": {},
   "outputs": [],
   "source": [
    "a = {}"
   ]
  },
  {
   "cell_type": "code",
   "execution_count": 8,
   "id": "890a7cba",
   "metadata": {},
   "outputs": [
    {
     "data": {
      "text/plain": [
       "dict"
      ]
     },
     "execution_count": 8,
     "metadata": {},
     "output_type": "execute_result"
    }
   ],
   "source": [
    "type(a)"
   ]
  },
  {
   "cell_type": "markdown",
   "id": "85b9e008",
   "metadata": {},
   "source": [
    "### Ans : { } it is empty dictonary"
   ]
  },
  {
   "cell_type": "markdown",
   "id": "fd68157d",
   "metadata": {},
   "source": [
    "## 2. What is the value of a dictionary value with the key &#39;foo&#39; and the value 42?"
   ]
  },
  {
   "cell_type": "code",
   "execution_count": 10,
   "id": "3e5ce91c",
   "metadata": {},
   "outputs": [
    {
     "data": {
      "text/plain": [
       "dict_values([42])"
      ]
     },
     "execution_count": 10,
     "metadata": {},
     "output_type": "execute_result"
    }
   ],
   "source": [
    "d = {\"foo\" : 42}\n",
    "d.values()"
   ]
  },
  {
   "cell_type": "markdown",
   "id": "8171cab5",
   "metadata": {},
   "source": [
    "### Ans : 42 is the values of dintonary "
   ]
  },
  {
   "cell_type": "markdown",
   "id": "61b007db",
   "metadata": {},
   "source": [
    "## 3. What is the most significant distinction between a dictionary and a list?"
   ]
  },
  {
   "cell_type": "markdown",
   "id": "053d5ef6",
   "metadata": {},
   "source": [
    "### Ans : A dictionary is a data type that stores a collection of key-value pairs, whereas a list is a data type that stores a collection of values."
   ]
  },
  {
   "cell_type": "markdown",
   "id": "92d9f92b",
   "metadata": {},
   "source": [
    "## 4. What happens if you try to access spam[&#39;foo&#39;] if spam is {&#39;bar&#39;: 100}?"
   ]
  },
  {
   "cell_type": "markdown",
   "id": "61d5458a",
   "metadata": {},
   "source": [
    "### Ans : you will get a key Error"
   ]
  },
  {
   "cell_type": "markdown",
   "id": "bdbf0847",
   "metadata": {},
   "source": [
    "## 5. If a dictionary is stored in spam, what is the difference between the expressions &#39;cat&#39; in spam and &#39;cat&#39; in spam.keys()?"
   ]
  },
  {
   "cell_type": "markdown",
   "id": "ef871952",
   "metadata": {},
   "source": [
    "### Ans : Both expressions are same "
   ]
  },
  {
   "cell_type": "markdown",
   "id": "6b2059e7",
   "metadata": {},
   "source": [
    "## 6. If a dictionary is stored in spam, what is the difference between the expressions &#39;cat&#39; in spam and &#39;cat&#39; in spam.values()?"
   ]
  },
  {
   "cell_type": "markdown",
   "id": "6f26b462",
   "metadata": {},
   "source": [
    "### Ans : The first expression checks whether the key 'cat' exists in the dictionary, while the second expression checks whether the value 'cat' exists as a value in the dictionary."
   ]
  },
  {
   "cell_type": "markdown",
   "id": "8c38e561",
   "metadata": {},
   "source": [
    "## 7. What is a shortcut for the following code?\n"
   ]
  },
  {
   "cell_type": "markdown",
   "id": "3c8d0290",
   "metadata": {},
   "source": [
    "## if &#39;color&#39; not in spam:"
   ]
  },
  {
   "cell_type": "markdown",
   "id": "0c7cdc72",
   "metadata": {},
   "source": [
    "## spam[&#39;color&#39;] = &#39;black&#39;"
   ]
  },
  {
   "cell_type": "markdown",
   "id": "02e10700",
   "metadata": {},
   "source": [
    "### Ans : spam.setdefault('color', 'black')"
   ]
  },
  {
   "cell_type": "markdown",
   "id": "b09c39cd",
   "metadata": {},
   "source": [
    "## 8. How do you &quot;pretty print&quot; dictionary values using which module and function?"
   ]
  },
  {
   "cell_type": "markdown",
   "id": "923950df",
   "metadata": {},
   "source": [
    "### Ans : The pprint module has a pretty print function."
   ]
  },
  {
   "cell_type": "code",
   "execution_count": null,
   "id": "f6c1e65a",
   "metadata": {},
   "outputs": [],
   "source": []
  }
 ],
 "metadata": {
  "kernelspec": {
   "display_name": "Python 3 (ipykernel)",
   "language": "python",
   "name": "python3"
  },
  "language_info": {
   "codemirror_mode": {
    "name": "ipython",
    "version": 3
   },
   "file_extension": ".py",
   "mimetype": "text/x-python",
   "name": "python",
   "nbconvert_exporter": "python",
   "pygments_lexer": "ipython3",
   "version": "3.9.12"
  }
 },
 "nbformat": 4,
 "nbformat_minor": 5
}
