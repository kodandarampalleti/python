{
 "cells": [
  {
   "cell_type": "markdown",
   "id": "eaff01b4",
   "metadata": {},
   "source": [
    "### 1. Create a zoo.py file first. Define the hours() function, which prints the string &#39;Open 9-5 daily&#39;. Then, use the interactive interpreter to import the zoo module and call its hours() function."
   ]
  },
  {
   "cell_type": "code",
   "execution_count": 1,
   "id": "9c4abe77",
   "metadata": {},
   "outputs": [],
   "source": [
    "import zoo"
   ]
  },
  {
   "cell_type": "code",
   "execution_count": 2,
   "id": "7e7a940b",
   "metadata": {},
   "outputs": [
    {
     "name": "stdout",
     "output_type": "stream",
     "text": [
      "Open 9-5 daily\n"
     ]
    }
   ],
   "source": [
    "zoo.hours()"
   ]
  },
  {
   "cell_type": "markdown",
   "id": "f5b8b847",
   "metadata": {},
   "source": [
    "-----------------------------------------------------\n",
    "### 2. In the interactive interpreter, import the zoo module as menagerie and call its hours() function."
   ]
  },
  {
   "cell_type": "code",
   "execution_count": 3,
   "id": "97603dea",
   "metadata": {},
   "outputs": [
    {
     "name": "stdout",
     "output_type": "stream",
     "text": [
      "Open 9-5 daily\n"
     ]
    }
   ],
   "source": [
    "import zoo as managerie\n",
    "managerie.hours()"
   ]
  },
  {
   "cell_type": "markdown",
   "id": "3444acaa",
   "metadata": {},
   "source": [
    "---------------------------------------------\n",
    "### 3. Using the interpreter, explicitly import and call the hours() function from zoo."
   ]
  },
  {
   "cell_type": "code",
   "execution_count": 4,
   "id": "86058add",
   "metadata": {},
   "outputs": [
    {
     "name": "stdout",
     "output_type": "stream",
     "text": [
      "Open 9-5 daily\n"
     ]
    }
   ],
   "source": [
    "zoo.hours()"
   ]
  },
  {
   "cell_type": "markdown",
   "id": "7bae8ca7",
   "metadata": {},
   "source": [
    "-----------------------------------------------\n",
    "### 4. Import the hours() function as info and call it."
   ]
  },
  {
   "cell_type": "code",
   "execution_count": 5,
   "id": "57dbd592",
   "metadata": {},
   "outputs": [],
   "source": [
    "from zoo import hours as info"
   ]
  },
  {
   "cell_type": "code",
   "execution_count": 6,
   "id": "8008782c",
   "metadata": {},
   "outputs": [
    {
     "name": "stdout",
     "output_type": "stream",
     "text": [
      "Open 9-5 daily\n"
     ]
    }
   ],
   "source": [
    "info()"
   ]
  },
  {
   "cell_type": "markdown",
   "id": "6ae44abd",
   "metadata": {},
   "source": [
    "-------------------------------------------------------------------------\n",
    "### 5. Create a plain dictionary with the key-value pairs &#39;a&#39;: 1, &#39;b&#39;: 2, and &#39;c&#39;: 3, and print it out."
   ]
  },
  {
   "cell_type": "code",
   "execution_count": 7,
   "id": "fa8306d1",
   "metadata": {},
   "outputs": [
    {
     "name": "stdout",
     "output_type": "stream",
     "text": [
      "{'a': 1, 'b': 2, 'c': 3}\n"
     ]
    }
   ],
   "source": [
    "my_dict = {'a':1, 'b':2, 'c':3}\n",
    "print(my_dict)"
   ]
  },
  {
   "cell_type": "markdown",
   "id": "2a802451",
   "metadata": {},
   "source": [
    "---------------------------------------------------------------------------------------\n",
    "### 6.Make an OrderedDict called fancy from the same pairs listed in 5 and print it. Did it print in the same order as plain?"
   ]
  },
  {
   "cell_type": "code",
   "execution_count": 8,
   "id": "394c04b5",
   "metadata": {},
   "outputs": [
    {
     "name": "stdout",
     "output_type": "stream",
     "text": [
      "OrderedDict([('apple', 2), ('banana', 3), ('pear', 1), ('orange', 4)])\n"
     ]
    }
   ],
   "source": [
    "from collections import OrderedDict\n",
    "\n",
    "plain = {'apple': 2, 'banana': 3, 'pear': 1, 'orange': 4}\n",
    "fancy = OrderedDict(plain)\n",
    "\n",
    "print(fancy)\n"
   ]
  },
  {
   "cell_type": "markdown",
   "id": "697d336a",
   "metadata": {},
   "source": [
    "--------------------------------------------------------------------\n",
    "### 7. Make a default dictionary called dict_of_lists and pass it the argument list. Make the list dict_of_lists[&#39;a&#39;] and append the value &#39;something for a&#39; to it in one assignment. Print dict_of_lists[&#39;a&#39;]."
   ]
  },
  {
   "cell_type": "code",
   "execution_count": 11,
   "id": "71636b18",
   "metadata": {},
   "outputs": [
    {
     "data": {
      "text/plain": [
       "['something for a']"
      ]
     },
     "execution_count": 11,
     "metadata": {},
     "output_type": "execute_result"
    }
   ],
   "source": [
    "from collections import defaultdict\n",
    "dict_of_lists = defaultdict(list)\n",
    "dict_of_lists['a'].append('something for a')\n",
    "dict_of_lists['a']"
   ]
  }
 ],
 "metadata": {
  "kernelspec": {
   "display_name": "Python 3 (ipykernel)",
   "language": "python",
   "name": "python3"
  },
  "language_info": {
   "codemirror_mode": {
    "name": "ipython",
    "version": 3
   },
   "file_extension": ".py",
   "mimetype": "text/x-python",
   "name": "python",
   "nbconvert_exporter": "python",
   "pygments_lexer": "ipython3",
   "version": "3.9.13"
  }
 },
 "nbformat": 4,
 "nbformat_minor": 5
}
