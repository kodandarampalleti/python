{
 "cells": [
  {
   "cell_type": "markdown",
   "id": "b4cbf990",
   "metadata": {},
   "source": [
    "### 1. What does RGBA stand for?"
   ]
  },
  {
   "cell_type": "markdown",
   "id": "38e8af85",
   "metadata": {},
   "source": [
    "RGBA stands for Red, Green, Blue, Alpha."
   ]
  },
  {
   "cell_type": "markdown",
   "id": "b1f10a36",
   "metadata": {},
   "source": [
    "------------------------------------------\n",
    "### 2. From the Pillow module, how do you get the RGBA value of any images?"
   ]
  },
  {
   "cell_type": "markdown",
   "id": "06c6fff4",
   "metadata": {},
   "source": [
    "You can use the Pillow module's getpixel() method to get the RGBA values of an image. It takes three parameters: the image object, the x and y coordinates of the pixel you want the color from"
   ]
  },
  {
   "cell_type": "markdown",
   "id": "e2ad2537",
   "metadata": {},
   "source": [
    "-----------------------------------------------------\n",
    "### 3. What is a box tuple, and how does it work?"
   ]
  },
  {
   "cell_type": "markdown",
   "id": "9cbf13d0",
   "metadata": {},
   "source": [
    "A box tuple is a tuple of two elements, the first of which is a reference to an object and the second of which is a type object. This allows Python to track the type of the object stored in the first element. The box tuple is used by the interpreter to store the type of an object and its value when the object is part of an expression"
   ]
  },
  {
   "cell_type": "markdown",
   "id": "12894318",
   "metadata": {},
   "source": [
    "--------------------------------------------------------\n",
    "### 4. Use your image and load in notebook then, How can you find out the width and height of an Image object?"
   ]
  },
  {
   "cell_type": "markdown",
   "id": "06fdbeb3",
   "metadata": {},
   "source": [
    "\n",
    "The width and height of an Image object can be found using the Image.size attribute. This returns a tuple containing the width and height of the image."
   ]
  },
  {
   "cell_type": "markdown",
   "id": "71b7bf97",
   "metadata": {},
   "source": [
    "-----------------------------------------------------------------\n",
    "### 5. What method would you call to get Image object for a 100×100 image, excluding the lower-left quarter of it?"
   ]
  },
  {
   "cell_type": "markdown",
   "id": "252a161f",
   "metadata": {},
   "source": [
    "You would call the method crop() on the Image object.\n"
   ]
  },
  {
   "cell_type": "markdown",
   "id": "6503cfb1",
   "metadata": {},
   "source": [
    "--------------------------------------------------------\n",
    "### 6. After making changes to an Image object, how could you save it as an image file?"
   ]
  },
  {
   "cell_type": "markdown",
   "id": "5c47075e",
   "metadata": {},
   "source": [
    "The easiest way to save an Image object as an image file is to use the .save() method."
   ]
  },
  {
   "cell_type": "markdown",
   "id": "d1374840",
   "metadata": {},
   "source": [
    "---------------------------------------------------------------\n",
    "### 7. What module contains Pillow’s shape-drawing code?"
   ]
  },
  {
   "cell_type": "markdown",
   "id": "06a391a6",
   "metadata": {},
   "source": [
    "The ImageDraw module contains Pillow's shape-drawing code.\n"
   ]
  },
  {
   "cell_type": "markdown",
   "id": "5e17fabe",
   "metadata": {},
   "source": [
    "----------------------------------------------------------\n",
    "### 8. Image objects do not have drawing methods. What kind of object does? How do you get this kind of object?"
   ]
  },
  {
   "cell_type": "markdown",
   "id": "09f2051d",
   "metadata": {},
   "source": [
    "To get an ImageDraw object for an Image object, you can call the ImageDraw.Draw() method and pass the Image object as an argument"
   ]
  }
 ],
 "metadata": {
  "kernelspec": {
   "display_name": "Python 3 (ipykernel)",
   "language": "python",
   "name": "python3"
  },
  "language_info": {
   "codemirror_mode": {
    "name": "ipython",
    "version": 3
   },
   "file_extension": ".py",
   "mimetype": "text/x-python",
   "name": "python",
   "nbconvert_exporter": "python",
   "pygments_lexer": "ipython3",
   "version": "3.9.13"
  }
 },
 "nbformat": 4,
 "nbformat_minor": 5
}
