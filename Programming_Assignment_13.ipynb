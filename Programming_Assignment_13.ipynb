{
 "cells": [
  {
   "cell_type": "markdown",
   "id": "b8acd386",
   "metadata": {},
   "source": [
    "### 1. Write a program that calculates and prints the value according to the given formula:\n",
    "Q = Square root of [(2 C D)/H]\n",
    "\n",
    "Following are the fixed values of C and H:\n",
    "\n",
    "C is 50. H is 30.\n",
    "\n",
    "D is the variable whose values should be input to your program in a comma-separated sequence.\n",
    "\n",
    "Example\n",
    "\n",
    "Let us assume the following comma separated input sequence is given to the program:\n",
    "\n",
    "100,150,180\n",
    "\n",
    "The output of the program should be:\n",
    "\n",
    "18,22,24"
   ]
  },
  {
   "cell_type": "code",
   "execution_count": 3,
   "id": "e8117fbb",
   "metadata": {},
   "outputs": [],
   "source": [
    "import math\n",
    "def calculate_formula(args):\n",
    "    c = 50\n",
    "    h = 30\n",
    "    result = []\n",
    "    for d in args:\n",
    "        result.append(int(math.sqrt((2*c*int(d))/h)))\n",
    "    print(result)"
   ]
  },
  {
   "cell_type": "code",
   "execution_count": 4,
   "id": "6fa029b2",
   "metadata": {},
   "outputs": [
    {
     "name": "stdout",
     "output_type": "stream",
     "text": [
      "Enter comma separated numbers input: 100,150,180\n",
      "[18, 22, 24]\n"
     ]
    }
   ],
   "source": [
    "inp = list(input(\"Enter comma separated numbers input: \").split(','))\n",
    "calculate_formula(inp)"
   ]
  },
  {
   "cell_type": "markdown",
   "id": "b302e195",
   "metadata": {},
   "source": [
    "### 2. Write a program which takes 2 digits, X,Y as input and generates a 2-dimensional array. The element value in the i-th row and j-th column of the array should be i*j."
   ]
  },
  {
   "cell_type": "code",
   "execution_count": 6,
   "id": "70049a2d",
   "metadata": {},
   "outputs": [
    {
     "name": "stdout",
     "output_type": "stream",
     "text": [
      "Enter X value: 2\n",
      "Enter Y value: 9\n",
      "[[0, 0, 0, 0, 0, 0, 0, 0, 0], [0, 1, 2, 3, 4, 5, 6, 7, 8]]\n"
     ]
    }
   ],
   "source": [
    "x = int(input(\"Enter X value: \"))\n",
    "y = int(input(\"Enter Y value: \"))\n",
    "matrix = []\n",
    "for i in range(x):\n",
    "    row = []\n",
    "    for j in range(y):\n",
    "        row.append(i*j)\n",
    "    matrix.append(row)\n",
    "print(matrix)"
   ]
  },
  {
   "cell_type": "markdown",
   "id": "c69b3ad0",
   "metadata": {},
   "source": [
    "### 3. Write a program that accepts a comma separated sequence of words as input and prints the words in a comma-separated sequence after sorting them alphabetically."
   ]
  },
  {
   "cell_type": "code",
   "execution_count": 7,
   "id": "56fd6706",
   "metadata": {},
   "outputs": [
    {
     "name": "stdout",
     "output_type": "stream",
     "text": [
      "Enter comma seperated words: hello,world,ram,big,lion\n",
      "big,hello,lion,ram,world\n"
     ]
    }
   ],
   "source": [
    "words = list(input(\"Enter comma seperated words: \").split(','))\n",
    "words.sort() \n",
    "print(','.join(words))"
   ]
  },
  {
   "cell_type": "markdown",
   "id": "d802124a",
   "metadata": {},
   "source": [
    "### 4. Write a program that accepts a sequence of whitespace separated words as input and prints the words after removing all duplicate words and sorting them alphanumerically."
   ]
  },
  {
   "cell_type": "code",
   "execution_count": 8,
   "id": "c8b83bd0",
   "metadata": {},
   "outputs": [
    {
     "name": "stdout",
     "output_type": "stream",
     "text": [
      "Enter a sequence of whitespace separated words: yo yo honey singh hello world python programming \n",
      "hello honey programming python singh world yo\n"
     ]
    }
   ],
   "source": [
    "input_str = input(\"Enter a sequence of whitespace separated words: \")\n",
    "words = input_str.split()\n",
    "unique_words = sorted(set(words))\n",
    "print(\" \".join(unique_words))"
   ]
  },
  {
   "cell_type": "markdown",
   "id": "3ab680a4",
   "metadata": {},
   "source": [
    "### 5. Write a program that accepts a sentence and calculate the number of letters and digits."
   ]
  },
  {
   "cell_type": "code",
   "execution_count": 11,
   "id": "968ff5a8",
   "metadata": {},
   "outputs": [
    {
     "name": "stdout",
     "output_type": "stream",
     "text": [
      "Enter a sentence: RAM12343sfj323\n",
      "Number of letters: 6\n",
      "Number of digits: 8\n"
     ]
    }
   ],
   "source": [
    "input_str = input(\"Enter a sentence: \")\n",
    "num_letters = 0\n",
    "num_digits = 0\n",
    "for char in input_str:\n",
    "    if char.isalpha():\n",
    "        num_letters += 1\n",
    "    elif char.isdigit():\n",
    "        num_digits += 1\n",
    "print(\"Number of letters:\", num_letters)\n",
    "print(\"Number of digits:\", num_digits)\n"
   ]
  },
  {
   "cell_type": "markdown",
   "id": "ad050b5c",
   "metadata": {},
   "source": [
    "### 6. A website requires the users to input username and password to register. Write a program to check the validity of password input by users."
   ]
  },
  {
   "cell_type": "code",
   "execution_count": 12,
   "id": "e9352f74",
   "metadata": {},
   "outputs": [
    {
     "name": "stdout",
     "output_type": "stream",
     "text": [
      "Enter a password: ram545455\n",
      "Password is not valid\n"
     ]
    }
   ],
   "source": [
    "def check_password(password):\n",
    "    if len(password) < 8:\n",
    "        return False\n",
    "    has_uppercase = False\n",
    "    has_lowercase = False\n",
    "    has_digit = False\n",
    "    for char in password:\n",
    "        if char.isupper():\n",
    "            has_uppercase = True\n",
    "        elif char.islower():\n",
    "            has_lowercase = True\n",
    "        elif char.isdigit():\n",
    "            has_digit = True\n",
    "        if has_uppercase and has_lowercase and has_digit:\n",
    "            return True\n",
    "    return False\n",
    "password = input(\"Enter a password: \")\n",
    "if check_password(password):\n",
    "    print(\"Password is valid\")\n",
    "else:\n",
    "    print(\"Password is not valid\")\n"
   ]
  },
  {
   "cell_type": "code",
   "execution_count": 13,
   "id": "41e1782e",
   "metadata": {},
   "outputs": [
    {
     "name": "stdout",
     "output_type": "stream",
     "text": [
      "Enter a password: R@m545455\n",
      "Password is valid\n"
     ]
    }
   ],
   "source": [
    "password = input(\"Enter a password: \")\n",
    "if check_password(password):\n",
    "    print(\"Password is valid\")\n",
    "else:\n",
    "    print(\"Password is not valid\")"
   ]
  }
 ],
 "metadata": {
  "kernelspec": {
   "display_name": "Python 3 (ipykernel)",
   "language": "python",
   "name": "python3"
  },
  "language_info": {
   "codemirror_mode": {
    "name": "ipython",
    "version": 3
   },
   "file_extension": ".py",
   "mimetype": "text/x-python",
   "name": "python",
   "nbconvert_exporter": "python",
   "pygments_lexer": "ipython3",
   "version": "3.9.13"
  }
 },
 "nbformat": 4,
 "nbformat_minor": 5
}
