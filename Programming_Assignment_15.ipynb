{
 "cells": [
  {
   "cell_type": "markdown",
   "id": "25e4f6c7",
   "metadata": {},
   "source": [
    "### Please write a program using generator to print the numbers which can be divisible by 5 and7 between 0 and n in comma separated form while n is input by console.\n",
    "\tExample:\n",
    "    If the following n is given as input to the program:\n",
    "    100\n",
    "    Then, the output of the program should be:\n",
    "    0,35,70"
   ]
  },
  {
   "cell_type": "code",
   "execution_count": 18,
   "id": "0fd3d819",
   "metadata": {},
   "outputs": [],
   "source": [
    "def fun1(num):\n",
    "    for i in range(num):\n",
    "        if i%5 == 0 and i%7 == 0:\n",
    "            yield str(i)"
   ]
  },
  {
   "cell_type": "code",
   "execution_count": 19,
   "id": "4736a40d",
   "metadata": {},
   "outputs": [
    {
     "data": {
      "text/plain": [
       "<generator object fun1 at 0x000001D925E52C80>"
      ]
     },
     "execution_count": 19,
     "metadata": {},
     "output_type": "execute_result"
    }
   ],
   "source": [
    "fun1(100)"
   ]
  },
  {
   "cell_type": "code",
   "execution_count": 20,
   "id": "4b943074",
   "metadata": {},
   "outputs": [
    {
     "name": "stdout",
     "output_type": "stream",
     "text": [
      "0,35,70\n"
     ]
    }
   ],
   "source": [
    "print(\",\".join([i for i in fun1(100)]))"
   ]
  },
  {
   "cell_type": "markdown",
   "id": "7aa58aef",
   "metadata": {},
   "source": [
    "### Please write a program using generator to print the even numbers between 0 and n in comma separated form while n is input by console.\n",
    "    Example:\n",
    "    If the following n is given as input to the program:\n",
    "    10\n",
    "    Then, the output of the program should be:\n",
    "    0,2,4,6,8,10"
   ]
  },
  {
   "cell_type": "code",
   "execution_count": 24,
   "id": "64eb2031",
   "metadata": {},
   "outputs": [],
   "source": [
    "def fun2(num):\n",
    "    for i in range(num):\n",
    "        if i%2 == 0 :\n",
    "            yield str(i)"
   ]
  },
  {
   "cell_type": "code",
   "execution_count": 25,
   "id": "593a058a",
   "metadata": {},
   "outputs": [
    {
     "data": {
      "text/plain": [
       "<generator object fun2 at 0x000001D927F0E970>"
      ]
     },
     "execution_count": 25,
     "metadata": {},
     "output_type": "execute_result"
    }
   ],
   "source": [
    "fun2(20)"
   ]
  },
  {
   "cell_type": "code",
   "execution_count": 26,
   "id": "15d6f275",
   "metadata": {},
   "outputs": [
    {
     "name": "stdout",
     "output_type": "stream",
     "text": [
      "0,2,4,6,8,10,12,14,16,18\n"
     ]
    }
   ],
   "source": [
    "print(\",\".join([i for i in fun2(20)]))"
   ]
  },
  {
   "cell_type": "markdown",
   "id": "e7f30cdb",
   "metadata": {},
   "source": [
    "### The Fibonacci Sequence is computed based on the following formula:\n",
    "    f(n)=0 if n=0\n",
    "    f(n)=1 if n=1\n",
    "    f(n)=f(n-1)+f(n-2) if n&gt;1\n",
    "    Please write a program using list comprehension to print the Fibonacci Sequence in comma\n",
    "    separated form with a given n input by console.\n",
    "    Example:\n",
    "    If the following n is given as input to the program:\n",
    "    7\n",
    "\n",
    "    Then, the output of the program should be:\n",
    "    0,1,1,2,3,5,8,13"
   ]
  },
  {
   "cell_type": "code",
   "execution_count": 21,
   "id": "e4c2d880",
   "metadata": {},
   "outputs": [],
   "source": [
    "def fun3(num):\n",
    "    a = 0\n",
    "    b = 1\n",
    "    c = 0\n",
    "    for i in range(10):\n",
    "        a = c\n",
    "        b = a + b\n",
    "        c = b-a\n",
    "        yield str(a)"
   ]
  },
  {
   "cell_type": "code",
   "execution_count": 22,
   "id": "a04daf9e",
   "metadata": {},
   "outputs": [
    {
     "data": {
      "text/plain": [
       "<generator object fun3 at 0x00000103DE760350>"
      ]
     },
     "execution_count": 22,
     "metadata": {},
     "output_type": "execute_result"
    }
   ],
   "source": [
    "fun3(10)"
   ]
  },
  {
   "cell_type": "code",
   "execution_count": 23,
   "id": "ba903085",
   "metadata": {},
   "outputs": [
    {
     "name": "stdout",
     "output_type": "stream",
     "text": [
      "0,1,1,2,3,5,8,13,21,34\n"
     ]
    }
   ],
   "source": [
    "print(\",\".join([i for i in fun3(20)]))"
   ]
  },
  {
   "cell_type": "markdown",
   "id": "a8e6707d",
   "metadata": {},
   "source": [
    "### Assuming that we have some email addresses in the &quot;username@companyname.com&quot; format, please write program to print the user name of a given email address. Both user names and company names are composed of letters only.\n",
    "    Example:\n",
    "    If the following email address is given as input to the program:\n",
    "    john@google.com\n",
    "    Then, the output of the program should be:\n",
    "    john"
   ]
  },
  {
   "cell_type": "code",
   "execution_count": 31,
   "id": "cea6e9d6",
   "metadata": {},
   "outputs": [
    {
     "name": "stdout",
     "output_type": "stream",
     "text": [
      "Enter the email address :alwayssram@gmail.com\n"
     ]
    },
    {
     "data": {
      "text/plain": [
       "'alwayssram'"
      ]
     },
     "execution_count": 31,
     "metadata": {},
     "output_type": "execute_result"
    }
   ],
   "source": [
    "num = input(\"Enter the email address :\")\n",
    "\n",
    "num[:num.find(\"@\")]"
   ]
  },
  {
   "cell_type": "markdown",
   "id": "f6a279bc",
   "metadata": {},
   "source": [
    "### Define a class named Shape and its subclass Square. The Square class has an init function which takes a length as argument. Both classes have a area function which can print the area of the shape where Shape&#39;s area is 0 by default."
   ]
  },
  {
   "cell_type": "code",
   "execution_count": 50,
   "id": "488dd764",
   "metadata": {},
   "outputs": [],
   "source": [
    "class shape:\n",
    "    def __init__(self , length):\n",
    "        self.length  = length\n",
    "    def area(self):        \n",
    "        return 0\n",
    "class square(shape):        \n",
    "     def area(self):\n",
    "        return self.length+self.length"
   ]
  },
  {
   "cell_type": "code",
   "execution_count": 51,
   "id": "c1fc5a06",
   "metadata": {},
   "outputs": [],
   "source": [
    "a  = shape(100)"
   ]
  },
  {
   "cell_type": "code",
   "execution_count": 52,
   "id": "2415f46a",
   "metadata": {},
   "outputs": [
    {
     "data": {
      "text/plain": [
       "0"
      ]
     },
     "execution_count": 52,
     "metadata": {},
     "output_type": "execute_result"
    }
   ],
   "source": [
    "a.area()"
   ]
  },
  {
   "cell_type": "code",
   "execution_count": 53,
   "id": "77da1d0f",
   "metadata": {},
   "outputs": [],
   "source": [
    "b = square(100)"
   ]
  },
  {
   "cell_type": "code",
   "execution_count": 54,
   "id": "71ee4a96",
   "metadata": {},
   "outputs": [
    {
     "data": {
      "text/plain": [
       "200"
      ]
     },
     "execution_count": 54,
     "metadata": {},
     "output_type": "execute_result"
    }
   ],
   "source": [
    "b.area()"
   ]
  }
 ],
 "metadata": {
  "kernelspec": {
   "display_name": "Python 3 (ipykernel)",
   "language": "python",
   "name": "python3"
  },
  "language_info": {
   "codemirror_mode": {
    "name": "ipython",
    "version": 3
   },
   "file_extension": ".py",
   "mimetype": "text/x-python",
   "name": "python",
   "nbconvert_exporter": "python",
   "pygments_lexer": "ipython3",
   "version": "3.9.13"
  }
 },
 "nbformat": 4,
 "nbformat_minor": 5
}
